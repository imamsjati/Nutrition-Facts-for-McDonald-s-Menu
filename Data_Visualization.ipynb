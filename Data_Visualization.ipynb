{
  "nbformat": 4,
  "nbformat_minor": 0,
  "metadata": {
    "colab": {
      "name": "Data Visualization.ipynb",
      "provenance": [],
      "collapsed_sections": []
    },
    "kernelspec": {
      "name": "python3",
      "display_name": "Python 3"
    },
    "language_info": {
      "name": "python"
    }
  },
  "cells": [
    {
      "cell_type": "markdown",
      "metadata": {
        "id": "9lajJLW2Xiik"
      },
      "source": [
        "## **DTS Data Science** \n",
        "# Institut Teknologi Sepuluh Nopember (Kelas B)\n"
      ]
    },
    {
      "cell_type": "markdown",
      "metadata": {
        "id": "stsXOBypeQMj"
      },
      "source": [
        "# **Challenge 1**"
      ]
    },
    {
      "cell_type": "markdown",
      "metadata": {
        "id": "ar8nIIavw-sT"
      },
      "source": [
        "## **Nutrition Facts for McDonald's Menu**\n",
        "\n",
        "**Introduction**\n",
        "\n",
        "Ray Kroc wanted to build a restaurant system that would be famous for providing food of cosistently high quality and uniform methods of preparation. He wanted to serve burgers, buns, fries and beverages that tasted just the same in Alaska as they did in Alabama. To achieve this, he chose a unique path: persuading both franchisees and suppliers to buy into his vision, working not for McDonald's but for themselves, together with McDonald's. Many of McDonald's most famous menu item's - Like Big Mac, Filet-O-Fish, and Egg McMuffin were created by franchisees\n",
        "\n",
        "**Nutrition Facts for McDonald's Menu Dataset** provides a nutrition analysis of every menu item on the US McDonald's menu, including breakfast, beef burgers, chicken and fish sandwiches, fries, salads, soda, coffee and tea, milkshakes, and desserts.\n",
        "\n"
      ]
    },
    {
      "cell_type": "markdown",
      "metadata": {
        "id": "b7hTqWuTjXub"
      },
      "source": [
        "## Data Acquisition\n",
        "\n",
        "Melakukan import library yang diperlukan"
      ]
    },
    {
      "cell_type": "code",
      "metadata": {
        "colab": {
          "base_uri": "https://localhost:8080/"
        },
        "id": "StwDN0vhbZn6",
        "outputId": "be7db402-7527-44cd-b52a-273bcd1b8d10"
      },
      "source": [
        "import pandas as pd \n",
        "import numpy as np\n",
        "import matplotlib.pyplot as plt\n",
        "%matplotlib inline\n",
        "\n",
        "import seaborn as sns\n",
        "\n",
        "!pip install pulp\n",
        "!pip install plotly_express\n",
        "import plotly.figure_factory as ff\n",
        "import matplotlib.pyplot as plt\n",
        "import pulp as pl # is a Python linear programming API for defining problems and invoking external solvers.\n",
        "from pulp import *\n"
      ],
      "execution_count": 1,
      "outputs": [
        {
          "output_type": "stream",
          "text": [
            "Collecting pulp\n",
            "\u001b[?25l  Downloading https://files.pythonhosted.org/packages/14/c4/0eec14a0123209c261de6ff154ef3be5cad3fd557c084f468356662e0585/PuLP-2.4-py3-none-any.whl (40.6MB)\n",
            "\u001b[K     |████████████████████████████████| 40.6MB 71kB/s \n",
            "\u001b[?25hCollecting amply>=0.1.2\n",
            "  Downloading https://files.pythonhosted.org/packages/f3/c5/dfa09dd2595a2ab2ab4e6fa7bebef9565812722e1980d04b0edce5032066/amply-0.1.4-py3-none-any.whl\n",
            "Requirement already satisfied: pyparsing in /usr/local/lib/python3.7/dist-packages (from amply>=0.1.2->pulp) (2.4.7)\n",
            "Requirement already satisfied: docutils>=0.3 in /usr/local/lib/python3.7/dist-packages (from amply>=0.1.2->pulp) (0.17.1)\n",
            "Installing collected packages: amply, pulp\n",
            "Successfully installed amply-0.1.4 pulp-2.4\n",
            "Collecting plotly_express\n",
            "  Downloading https://files.pythonhosted.org/packages/d4/d6/8a2906f51e073a4be80cab35cfa10e7a34853e60f3ed5304ac470852a08d/plotly_express-0.4.1-py2.py3-none-any.whl\n",
            "Requirement already satisfied: patsy>=0.5 in /usr/local/lib/python3.7/dist-packages (from plotly_express) (0.5.1)\n",
            "Requirement already satisfied: statsmodels>=0.9.0 in /usr/local/lib/python3.7/dist-packages (from plotly_express) (0.10.2)\n",
            "Requirement already satisfied: plotly>=4.1.0 in /usr/local/lib/python3.7/dist-packages (from plotly_express) (4.4.1)\n",
            "Requirement already satisfied: numpy>=1.11 in /usr/local/lib/python3.7/dist-packages (from plotly_express) (1.19.5)\n",
            "Requirement already satisfied: pandas>=0.20.0 in /usr/local/lib/python3.7/dist-packages (from plotly_express) (1.1.5)\n",
            "Requirement already satisfied: scipy>=0.18 in /usr/local/lib/python3.7/dist-packages (from plotly_express) (1.4.1)\n",
            "Requirement already satisfied: six in /usr/local/lib/python3.7/dist-packages (from patsy>=0.5->plotly_express) (1.15.0)\n",
            "Requirement already satisfied: retrying>=1.3.3 in /usr/local/lib/python3.7/dist-packages (from plotly>=4.1.0->plotly_express) (1.3.3)\n",
            "Requirement already satisfied: python-dateutil>=2.7.3 in /usr/local/lib/python3.7/dist-packages (from pandas>=0.20.0->plotly_express) (2.8.1)\n",
            "Requirement already satisfied: pytz>=2017.2 in /usr/local/lib/python3.7/dist-packages (from pandas>=0.20.0->plotly_express) (2018.9)\n",
            "Installing collected packages: plotly-express\n",
            "Successfully installed plotly-express-0.4.1\n"
          ],
          "name": "stdout"
        }
      ]
    },
    {
      "cell_type": "code",
      "metadata": {
        "colab": {
          "resources": {
            "http://localhost:8080/nbextensions/google.colab/files.js": {
              "data": "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",
              "ok": true,
              "headers": [
                [
                  "content-type",
                  "application/javascript"
                ]
              ],
              "status": 200,
              "status_text": ""
            }
          },
          "base_uri": "https://localhost:8080/",
          "height": 73
        },
        "id": "t5iyKXPKY0Vx",
        "outputId": "84dc4ad4-5d8b-4b98-e024-469558040ba2"
      },
      "source": [
        "from google.colab import files\n",
        "data_to_load = files.upload()"
      ],
      "execution_count": 2,
      "outputs": [
        {
          "output_type": "display_data",
          "data": {
            "text/html": [
              "\n",
              "     <input type=\"file\" id=\"files-4d7c4811-6d5f-4cc9-9e6d-43bd325cddb7\" name=\"files[]\" multiple disabled\n",
              "        style=\"border:none\" />\n",
              "     <output id=\"result-4d7c4811-6d5f-4cc9-9e6d-43bd325cddb7\">\n",
              "      Upload widget is only available when the cell has been executed in the\n",
              "      current browser session. Please rerun this cell to enable.\n",
              "      </output>\n",
              "      <script src=\"/nbextensions/google.colab/files.js\"></script> "
            ],
            "text/plain": [
              "<IPython.core.display.HTML object>"
            ]
          },
          "metadata": {
            "tags": []
          }
        },
        {
          "output_type": "stream",
          "text": [
            "Saving menu.csv to menu.csv\n"
          ],
          "name": "stdout"
        }
      ]
    },
    {
      "cell_type": "markdown",
      "metadata": {
        "id": "j2luAEQ5lgHb"
      },
      "source": [
        "Upload file csv dataset yang digunakan menggunakan library pandas dan menampilkan data dalam file"
      ]
    },
    {
      "cell_type": "code",
      "metadata": {
        "colab": {
          "base_uri": "https://localhost:8080/",
          "height": 1000
        },
        "id": "2chTdhw4Zy4R",
        "outputId": "d59fa076-e919-4211-910b-980354381d84"
      },
      "source": [
        "import io\n",
        "df = pd.read_csv(io.BytesIO(data_to_load['menu.csv']))\n",
        "df"
      ],
      "execution_count": 3,
      "outputs": [
        {
          "output_type": "execute_result",
          "data": {
            "text/html": [
              "<div>\n",
              "<style scoped>\n",
              "    .dataframe tbody tr th:only-of-type {\n",
              "        vertical-align: middle;\n",
              "    }\n",
              "\n",
              "    .dataframe tbody tr th {\n",
              "        vertical-align: top;\n",
              "    }\n",
              "\n",
              "    .dataframe thead th {\n",
              "        text-align: right;\n",
              "    }\n",
              "</style>\n",
              "<table border=\"1\" class=\"dataframe\">\n",
              "  <thead>\n",
              "    <tr style=\"text-align: right;\">\n",
              "      <th></th>\n",
              "      <th>Category</th>\n",
              "      <th>Item</th>\n",
              "      <th>Serving Size</th>\n",
              "      <th>Calories</th>\n",
              "      <th>Calories from Fat</th>\n",
              "      <th>Total Fat</th>\n",
              "      <th>Total Fat (% Daily Value)</th>\n",
              "      <th>Saturated Fat</th>\n",
              "      <th>Saturated Fat (% Daily Value)</th>\n",
              "      <th>Trans Fat</th>\n",
              "      <th>Cholesterol</th>\n",
              "      <th>Cholesterol (% Daily Value)</th>\n",
              "      <th>Sodium</th>\n",
              "      <th>Sodium (% Daily Value)</th>\n",
              "      <th>Carbohydrates</th>\n",
              "      <th>Carbohydrates (% Daily Value)</th>\n",
              "      <th>Dietary Fiber</th>\n",
              "      <th>Dietary Fiber (% Daily Value)</th>\n",
              "      <th>Sugars</th>\n",
              "      <th>Protein</th>\n",
              "      <th>Vitamin A (% Daily Value)</th>\n",
              "      <th>Vitamin C (% Daily Value)</th>\n",
              "      <th>Calcium (% Daily Value)</th>\n",
              "      <th>Iron (% Daily Value)</th>\n",
              "    </tr>\n",
              "  </thead>\n",
              "  <tbody>\n",
              "    <tr>\n",
              "      <th>0</th>\n",
              "      <td>Breakfast</td>\n",
              "      <td>Egg McMuffin</td>\n",
              "      <td>4.8 oz (136 g)</td>\n",
              "      <td>300</td>\n",
              "      <td>120</td>\n",
              "      <td>13.0</td>\n",
              "      <td>20</td>\n",
              "      <td>5.0</td>\n",
              "      <td>25</td>\n",
              "      <td>0.0</td>\n",
              "      <td>260</td>\n",
              "      <td>87</td>\n",
              "      <td>750</td>\n",
              "      <td>31</td>\n",
              "      <td>31</td>\n",
              "      <td>10</td>\n",
              "      <td>4</td>\n",
              "      <td>17</td>\n",
              "      <td>3</td>\n",
              "      <td>17</td>\n",
              "      <td>10</td>\n",
              "      <td>0</td>\n",
              "      <td>25</td>\n",
              "      <td>15</td>\n",
              "    </tr>\n",
              "    <tr>\n",
              "      <th>1</th>\n",
              "      <td>Breakfast</td>\n",
              "      <td>Egg White Delight</td>\n",
              "      <td>4.8 oz (135 g)</td>\n",
              "      <td>250</td>\n",
              "      <td>70</td>\n",
              "      <td>8.0</td>\n",
              "      <td>12</td>\n",
              "      <td>3.0</td>\n",
              "      <td>15</td>\n",
              "      <td>0.0</td>\n",
              "      <td>25</td>\n",
              "      <td>8</td>\n",
              "      <td>770</td>\n",
              "      <td>32</td>\n",
              "      <td>30</td>\n",
              "      <td>10</td>\n",
              "      <td>4</td>\n",
              "      <td>17</td>\n",
              "      <td>3</td>\n",
              "      <td>18</td>\n",
              "      <td>6</td>\n",
              "      <td>0</td>\n",
              "      <td>25</td>\n",
              "      <td>8</td>\n",
              "    </tr>\n",
              "    <tr>\n",
              "      <th>2</th>\n",
              "      <td>Breakfast</td>\n",
              "      <td>Sausage McMuffin</td>\n",
              "      <td>3.9 oz (111 g)</td>\n",
              "      <td>370</td>\n",
              "      <td>200</td>\n",
              "      <td>23.0</td>\n",
              "      <td>35</td>\n",
              "      <td>8.0</td>\n",
              "      <td>42</td>\n",
              "      <td>0.0</td>\n",
              "      <td>45</td>\n",
              "      <td>15</td>\n",
              "      <td>780</td>\n",
              "      <td>33</td>\n",
              "      <td>29</td>\n",
              "      <td>10</td>\n",
              "      <td>4</td>\n",
              "      <td>17</td>\n",
              "      <td>2</td>\n",
              "      <td>14</td>\n",
              "      <td>8</td>\n",
              "      <td>0</td>\n",
              "      <td>25</td>\n",
              "      <td>10</td>\n",
              "    </tr>\n",
              "    <tr>\n",
              "      <th>3</th>\n",
              "      <td>Breakfast</td>\n",
              "      <td>Sausage McMuffin with Egg</td>\n",
              "      <td>5.7 oz (161 g)</td>\n",
              "      <td>450</td>\n",
              "      <td>250</td>\n",
              "      <td>28.0</td>\n",
              "      <td>43</td>\n",
              "      <td>10.0</td>\n",
              "      <td>52</td>\n",
              "      <td>0.0</td>\n",
              "      <td>285</td>\n",
              "      <td>95</td>\n",
              "      <td>860</td>\n",
              "      <td>36</td>\n",
              "      <td>30</td>\n",
              "      <td>10</td>\n",
              "      <td>4</td>\n",
              "      <td>17</td>\n",
              "      <td>2</td>\n",
              "      <td>21</td>\n",
              "      <td>15</td>\n",
              "      <td>0</td>\n",
              "      <td>30</td>\n",
              "      <td>15</td>\n",
              "    </tr>\n",
              "    <tr>\n",
              "      <th>4</th>\n",
              "      <td>Breakfast</td>\n",
              "      <td>Sausage McMuffin with Egg Whites</td>\n",
              "      <td>5.7 oz (161 g)</td>\n",
              "      <td>400</td>\n",
              "      <td>210</td>\n",
              "      <td>23.0</td>\n",
              "      <td>35</td>\n",
              "      <td>8.0</td>\n",
              "      <td>42</td>\n",
              "      <td>0.0</td>\n",
              "      <td>50</td>\n",
              "      <td>16</td>\n",
              "      <td>880</td>\n",
              "      <td>37</td>\n",
              "      <td>30</td>\n",
              "      <td>10</td>\n",
              "      <td>4</td>\n",
              "      <td>17</td>\n",
              "      <td>2</td>\n",
              "      <td>21</td>\n",
              "      <td>6</td>\n",
              "      <td>0</td>\n",
              "      <td>25</td>\n",
              "      <td>10</td>\n",
              "    </tr>\n",
              "    <tr>\n",
              "      <th>...</th>\n",
              "      <td>...</td>\n",
              "      <td>...</td>\n",
              "      <td>...</td>\n",
              "      <td>...</td>\n",
              "      <td>...</td>\n",
              "      <td>...</td>\n",
              "      <td>...</td>\n",
              "      <td>...</td>\n",
              "      <td>...</td>\n",
              "      <td>...</td>\n",
              "      <td>...</td>\n",
              "      <td>...</td>\n",
              "      <td>...</td>\n",
              "      <td>...</td>\n",
              "      <td>...</td>\n",
              "      <td>...</td>\n",
              "      <td>...</td>\n",
              "      <td>...</td>\n",
              "      <td>...</td>\n",
              "      <td>...</td>\n",
              "      <td>...</td>\n",
              "      <td>...</td>\n",
              "      <td>...</td>\n",
              "      <td>...</td>\n",
              "    </tr>\n",
              "    <tr>\n",
              "      <th>255</th>\n",
              "      <td>Smoothies &amp; Shakes</td>\n",
              "      <td>McFlurry with Oreo Cookies (Small)</td>\n",
              "      <td>10.1 oz (285 g)</td>\n",
              "      <td>510</td>\n",
              "      <td>150</td>\n",
              "      <td>17.0</td>\n",
              "      <td>26</td>\n",
              "      <td>9.0</td>\n",
              "      <td>44</td>\n",
              "      <td>0.5</td>\n",
              "      <td>45</td>\n",
              "      <td>14</td>\n",
              "      <td>280</td>\n",
              "      <td>12</td>\n",
              "      <td>80</td>\n",
              "      <td>27</td>\n",
              "      <td>1</td>\n",
              "      <td>4</td>\n",
              "      <td>64</td>\n",
              "      <td>12</td>\n",
              "      <td>15</td>\n",
              "      <td>0</td>\n",
              "      <td>40</td>\n",
              "      <td>8</td>\n",
              "    </tr>\n",
              "    <tr>\n",
              "      <th>256</th>\n",
              "      <td>Smoothies &amp; Shakes</td>\n",
              "      <td>McFlurry with Oreo Cookies (Medium)</td>\n",
              "      <td>13.4 oz (381 g)</td>\n",
              "      <td>690</td>\n",
              "      <td>200</td>\n",
              "      <td>23.0</td>\n",
              "      <td>35</td>\n",
              "      <td>12.0</td>\n",
              "      <td>58</td>\n",
              "      <td>1.0</td>\n",
              "      <td>55</td>\n",
              "      <td>19</td>\n",
              "      <td>380</td>\n",
              "      <td>16</td>\n",
              "      <td>106</td>\n",
              "      <td>35</td>\n",
              "      <td>1</td>\n",
              "      <td>5</td>\n",
              "      <td>85</td>\n",
              "      <td>15</td>\n",
              "      <td>20</td>\n",
              "      <td>0</td>\n",
              "      <td>50</td>\n",
              "      <td>10</td>\n",
              "    </tr>\n",
              "    <tr>\n",
              "      <th>257</th>\n",
              "      <td>Smoothies &amp; Shakes</td>\n",
              "      <td>McFlurry with Oreo Cookies (Snack)</td>\n",
              "      <td>6.7 oz (190 g)</td>\n",
              "      <td>340</td>\n",
              "      <td>100</td>\n",
              "      <td>11.0</td>\n",
              "      <td>17</td>\n",
              "      <td>6.0</td>\n",
              "      <td>29</td>\n",
              "      <td>0.0</td>\n",
              "      <td>30</td>\n",
              "      <td>9</td>\n",
              "      <td>190</td>\n",
              "      <td>8</td>\n",
              "      <td>53</td>\n",
              "      <td>18</td>\n",
              "      <td>1</td>\n",
              "      <td>2</td>\n",
              "      <td>43</td>\n",
              "      <td>8</td>\n",
              "      <td>10</td>\n",
              "      <td>0</td>\n",
              "      <td>25</td>\n",
              "      <td>6</td>\n",
              "    </tr>\n",
              "    <tr>\n",
              "      <th>258</th>\n",
              "      <td>Smoothies &amp; Shakes</td>\n",
              "      <td>McFlurry with Reese's Peanut Butter Cups (Medium)</td>\n",
              "      <td>14.2 oz (403 g)</td>\n",
              "      <td>810</td>\n",
              "      <td>290</td>\n",
              "      <td>32.0</td>\n",
              "      <td>50</td>\n",
              "      <td>15.0</td>\n",
              "      <td>76</td>\n",
              "      <td>1.0</td>\n",
              "      <td>60</td>\n",
              "      <td>20</td>\n",
              "      <td>400</td>\n",
              "      <td>17</td>\n",
              "      <td>114</td>\n",
              "      <td>38</td>\n",
              "      <td>2</td>\n",
              "      <td>9</td>\n",
              "      <td>103</td>\n",
              "      <td>21</td>\n",
              "      <td>20</td>\n",
              "      <td>0</td>\n",
              "      <td>60</td>\n",
              "      <td>6</td>\n",
              "    </tr>\n",
              "    <tr>\n",
              "      <th>259</th>\n",
              "      <td>Smoothies &amp; Shakes</td>\n",
              "      <td>McFlurry with Reese's Peanut Butter Cups (Snack)</td>\n",
              "      <td>7.1 oz (202 g)</td>\n",
              "      <td>410</td>\n",
              "      <td>150</td>\n",
              "      <td>16.0</td>\n",
              "      <td>25</td>\n",
              "      <td>8.0</td>\n",
              "      <td>38</td>\n",
              "      <td>0.0</td>\n",
              "      <td>30</td>\n",
              "      <td>10</td>\n",
              "      <td>200</td>\n",
              "      <td>8</td>\n",
              "      <td>57</td>\n",
              "      <td>19</td>\n",
              "      <td>1</td>\n",
              "      <td>5</td>\n",
              "      <td>51</td>\n",
              "      <td>10</td>\n",
              "      <td>10</td>\n",
              "      <td>0</td>\n",
              "      <td>30</td>\n",
              "      <td>4</td>\n",
              "    </tr>\n",
              "  </tbody>\n",
              "</table>\n",
              "<p>260 rows × 24 columns</p>\n",
              "</div>"
            ],
            "text/plain": [
              "               Category  ... Iron (% Daily Value)\n",
              "0             Breakfast  ...                   15\n",
              "1             Breakfast  ...                    8\n",
              "2             Breakfast  ...                   10\n",
              "3             Breakfast  ...                   15\n",
              "4             Breakfast  ...                   10\n",
              "..                  ...  ...                  ...\n",
              "255  Smoothies & Shakes  ...                    8\n",
              "256  Smoothies & Shakes  ...                   10\n",
              "257  Smoothies & Shakes  ...                    6\n",
              "258  Smoothies & Shakes  ...                    6\n",
              "259  Smoothies & Shakes  ...                    4\n",
              "\n",
              "[260 rows x 24 columns]"
            ]
          },
          "metadata": {
            "tags": []
          },
          "execution_count": 3
        }
      ]
    },
    {
      "cell_type": "markdown",
      "metadata": {
        "id": "cbqH4CIslxSS"
      },
      "source": [
        "## Data Exploratory\n",
        "\n",
        "Melakukan pengecekan isi pada data apakah terdapat data yang kosong atau tidak"
      ]
    },
    {
      "cell_type": "code",
      "metadata": {
        "colab": {
          "base_uri": "https://localhost:8080/"
        },
        "id": "RzwzuIMDa7GV",
        "outputId": "a07da0cd-8eab-4e00-a276-93afe1050120"
      },
      "source": [
        "df.isnull().values.any()"
      ],
      "execution_count": 4,
      "outputs": [
        {
          "output_type": "execute_result",
          "data": {
            "text/plain": [
              "False"
            ]
          },
          "metadata": {
            "tags": []
          },
          "execution_count": 4
        }
      ]
    },
    {
      "cell_type": "markdown",
      "metadata": {
        "id": "L2ipcGJOmFZb"
      },
      "source": [
        "Tipe data tiap kolom perlu diketahui agar mudah untuk mengelolah data dalam kolom tersebut"
      ]
    },
    {
      "cell_type": "code",
      "metadata": {
        "colab": {
          "base_uri": "https://localhost:8080/"
        },
        "id": "foiwDxoVbqlZ",
        "outputId": "dae05f2a-9fec-4bcf-ec6e-87a7ad842afa"
      },
      "source": [
        "#check data\n",
        "df.dtypes"
      ],
      "execution_count": 5,
      "outputs": [
        {
          "output_type": "execute_result",
          "data": {
            "text/plain": [
              "Category                          object\n",
              "Item                              object\n",
              "Serving Size                      object\n",
              "Calories                           int64\n",
              "Calories from Fat                  int64\n",
              "Total Fat                        float64\n",
              "Total Fat (% Daily Value)          int64\n",
              "Saturated Fat                    float64\n",
              "Saturated Fat (% Daily Value)      int64\n",
              "Trans Fat                        float64\n",
              "Cholesterol                        int64\n",
              "Cholesterol (% Daily Value)        int64\n",
              "Sodium                             int64\n",
              "Sodium (% Daily Value)             int64\n",
              "Carbohydrates                      int64\n",
              "Carbohydrates (% Daily Value)      int64\n",
              "Dietary Fiber                      int64\n",
              "Dietary Fiber (% Daily Value)      int64\n",
              "Sugars                             int64\n",
              "Protein                            int64\n",
              "Vitamin A (% Daily Value)          int64\n",
              "Vitamin C (% Daily Value)          int64\n",
              "Calcium (% Daily Value)            int64\n",
              "Iron (% Daily Value)               int64\n",
              "dtype: object"
            ]
          },
          "metadata": {
            "tags": []
          },
          "execution_count": 5
        }
      ]
    },
    {
      "cell_type": "markdown",
      "metadata": {
        "id": "5mJncqMU0Eui"
      },
      "source": [
        "## **Data Exploration**"
      ]
    },
    {
      "cell_type": "code",
      "metadata": {
        "colab": {
          "base_uri": "https://localhost:8080/",
          "height": 364
        },
        "id": "kMoRliWf0Bqw",
        "outputId": "8d9d024a-b871-42fd-9f40-303c490b0984"
      },
      "source": [
        "df.describe()"
      ],
      "execution_count": 6,
      "outputs": [
        {
          "output_type": "execute_result",
          "data": {
            "text/html": [
              "<div>\n",
              "<style scoped>\n",
              "    .dataframe tbody tr th:only-of-type {\n",
              "        vertical-align: middle;\n",
              "    }\n",
              "\n",
              "    .dataframe tbody tr th {\n",
              "        vertical-align: top;\n",
              "    }\n",
              "\n",
              "    .dataframe thead th {\n",
              "        text-align: right;\n",
              "    }\n",
              "</style>\n",
              "<table border=\"1\" class=\"dataframe\">\n",
              "  <thead>\n",
              "    <tr style=\"text-align: right;\">\n",
              "      <th></th>\n",
              "      <th>Calories</th>\n",
              "      <th>Calories from Fat</th>\n",
              "      <th>Total Fat</th>\n",
              "      <th>Total Fat (% Daily Value)</th>\n",
              "      <th>Saturated Fat</th>\n",
              "      <th>Saturated Fat (% Daily Value)</th>\n",
              "      <th>Trans Fat</th>\n",
              "      <th>Cholesterol</th>\n",
              "      <th>Cholesterol (% Daily Value)</th>\n",
              "      <th>Sodium</th>\n",
              "      <th>Sodium (% Daily Value)</th>\n",
              "      <th>Carbohydrates</th>\n",
              "      <th>Carbohydrates (% Daily Value)</th>\n",
              "      <th>Dietary Fiber</th>\n",
              "      <th>Dietary Fiber (% Daily Value)</th>\n",
              "      <th>Sugars</th>\n",
              "      <th>Protein</th>\n",
              "      <th>Vitamin A (% Daily Value)</th>\n",
              "      <th>Vitamin C (% Daily Value)</th>\n",
              "      <th>Calcium (% Daily Value)</th>\n",
              "      <th>Iron (% Daily Value)</th>\n",
              "    </tr>\n",
              "  </thead>\n",
              "  <tbody>\n",
              "    <tr>\n",
              "      <th>count</th>\n",
              "      <td>260.000000</td>\n",
              "      <td>260.000000</td>\n",
              "      <td>260.000000</td>\n",
              "      <td>260.000000</td>\n",
              "      <td>260.000000</td>\n",
              "      <td>260.000000</td>\n",
              "      <td>260.000000</td>\n",
              "      <td>260.000000</td>\n",
              "      <td>260.000000</td>\n",
              "      <td>260.000000</td>\n",
              "      <td>260.000000</td>\n",
              "      <td>260.000000</td>\n",
              "      <td>260.000000</td>\n",
              "      <td>260.000000</td>\n",
              "      <td>260.000000</td>\n",
              "      <td>260.000000</td>\n",
              "      <td>260.000000</td>\n",
              "      <td>260.000000</td>\n",
              "      <td>260.000000</td>\n",
              "      <td>260.000000</td>\n",
              "      <td>260.000000</td>\n",
              "    </tr>\n",
              "    <tr>\n",
              "      <th>mean</th>\n",
              "      <td>368.269231</td>\n",
              "      <td>127.096154</td>\n",
              "      <td>14.165385</td>\n",
              "      <td>21.815385</td>\n",
              "      <td>6.007692</td>\n",
              "      <td>29.965385</td>\n",
              "      <td>0.203846</td>\n",
              "      <td>54.942308</td>\n",
              "      <td>18.392308</td>\n",
              "      <td>495.750000</td>\n",
              "      <td>20.676923</td>\n",
              "      <td>47.346154</td>\n",
              "      <td>15.780769</td>\n",
              "      <td>1.630769</td>\n",
              "      <td>6.530769</td>\n",
              "      <td>29.423077</td>\n",
              "      <td>13.338462</td>\n",
              "      <td>13.426923</td>\n",
              "      <td>8.534615</td>\n",
              "      <td>20.973077</td>\n",
              "      <td>7.734615</td>\n",
              "    </tr>\n",
              "    <tr>\n",
              "      <th>std</th>\n",
              "      <td>240.269886</td>\n",
              "      <td>127.875914</td>\n",
              "      <td>14.205998</td>\n",
              "      <td>21.885199</td>\n",
              "      <td>5.321873</td>\n",
              "      <td>26.639209</td>\n",
              "      <td>0.429133</td>\n",
              "      <td>87.269257</td>\n",
              "      <td>29.091653</td>\n",
              "      <td>577.026323</td>\n",
              "      <td>24.034954</td>\n",
              "      <td>28.252232</td>\n",
              "      <td>9.419544</td>\n",
              "      <td>1.567717</td>\n",
              "      <td>6.307057</td>\n",
              "      <td>28.679797</td>\n",
              "      <td>11.426146</td>\n",
              "      <td>24.366381</td>\n",
              "      <td>26.345542</td>\n",
              "      <td>17.019953</td>\n",
              "      <td>8.723263</td>\n",
              "    </tr>\n",
              "    <tr>\n",
              "      <th>min</th>\n",
              "      <td>0.000000</td>\n",
              "      <td>0.000000</td>\n",
              "      <td>0.000000</td>\n",
              "      <td>0.000000</td>\n",
              "      <td>0.000000</td>\n",
              "      <td>0.000000</td>\n",
              "      <td>0.000000</td>\n",
              "      <td>0.000000</td>\n",
              "      <td>0.000000</td>\n",
              "      <td>0.000000</td>\n",
              "      <td>0.000000</td>\n",
              "      <td>0.000000</td>\n",
              "      <td>0.000000</td>\n",
              "      <td>0.000000</td>\n",
              "      <td>0.000000</td>\n",
              "      <td>0.000000</td>\n",
              "      <td>0.000000</td>\n",
              "      <td>0.000000</td>\n",
              "      <td>0.000000</td>\n",
              "      <td>0.000000</td>\n",
              "      <td>0.000000</td>\n",
              "    </tr>\n",
              "    <tr>\n",
              "      <th>25%</th>\n",
              "      <td>210.000000</td>\n",
              "      <td>20.000000</td>\n",
              "      <td>2.375000</td>\n",
              "      <td>3.750000</td>\n",
              "      <td>1.000000</td>\n",
              "      <td>4.750000</td>\n",
              "      <td>0.000000</td>\n",
              "      <td>5.000000</td>\n",
              "      <td>2.000000</td>\n",
              "      <td>107.500000</td>\n",
              "      <td>4.750000</td>\n",
              "      <td>30.000000</td>\n",
              "      <td>10.000000</td>\n",
              "      <td>0.000000</td>\n",
              "      <td>0.000000</td>\n",
              "      <td>5.750000</td>\n",
              "      <td>4.000000</td>\n",
              "      <td>2.000000</td>\n",
              "      <td>0.000000</td>\n",
              "      <td>6.000000</td>\n",
              "      <td>0.000000</td>\n",
              "    </tr>\n",
              "    <tr>\n",
              "      <th>50%</th>\n",
              "      <td>340.000000</td>\n",
              "      <td>100.000000</td>\n",
              "      <td>11.000000</td>\n",
              "      <td>17.000000</td>\n",
              "      <td>5.000000</td>\n",
              "      <td>24.000000</td>\n",
              "      <td>0.000000</td>\n",
              "      <td>35.000000</td>\n",
              "      <td>11.000000</td>\n",
              "      <td>190.000000</td>\n",
              "      <td>8.000000</td>\n",
              "      <td>44.000000</td>\n",
              "      <td>15.000000</td>\n",
              "      <td>1.000000</td>\n",
              "      <td>5.000000</td>\n",
              "      <td>17.500000</td>\n",
              "      <td>12.000000</td>\n",
              "      <td>8.000000</td>\n",
              "      <td>0.000000</td>\n",
              "      <td>20.000000</td>\n",
              "      <td>4.000000</td>\n",
              "    </tr>\n",
              "    <tr>\n",
              "      <th>75%</th>\n",
              "      <td>500.000000</td>\n",
              "      <td>200.000000</td>\n",
              "      <td>22.250000</td>\n",
              "      <td>35.000000</td>\n",
              "      <td>10.000000</td>\n",
              "      <td>48.000000</td>\n",
              "      <td>0.000000</td>\n",
              "      <td>65.000000</td>\n",
              "      <td>21.250000</td>\n",
              "      <td>865.000000</td>\n",
              "      <td>36.250000</td>\n",
              "      <td>60.000000</td>\n",
              "      <td>20.000000</td>\n",
              "      <td>3.000000</td>\n",
              "      <td>10.000000</td>\n",
              "      <td>48.000000</td>\n",
              "      <td>19.000000</td>\n",
              "      <td>15.000000</td>\n",
              "      <td>4.000000</td>\n",
              "      <td>30.000000</td>\n",
              "      <td>15.000000</td>\n",
              "    </tr>\n",
              "    <tr>\n",
              "      <th>max</th>\n",
              "      <td>1880.000000</td>\n",
              "      <td>1060.000000</td>\n",
              "      <td>118.000000</td>\n",
              "      <td>182.000000</td>\n",
              "      <td>20.000000</td>\n",
              "      <td>102.000000</td>\n",
              "      <td>2.500000</td>\n",
              "      <td>575.000000</td>\n",
              "      <td>192.000000</td>\n",
              "      <td>3600.000000</td>\n",
              "      <td>150.000000</td>\n",
              "      <td>141.000000</td>\n",
              "      <td>47.000000</td>\n",
              "      <td>7.000000</td>\n",
              "      <td>28.000000</td>\n",
              "      <td>128.000000</td>\n",
              "      <td>87.000000</td>\n",
              "      <td>170.000000</td>\n",
              "      <td>240.000000</td>\n",
              "      <td>70.000000</td>\n",
              "      <td>40.000000</td>\n",
              "    </tr>\n",
              "  </tbody>\n",
              "</table>\n",
              "</div>"
            ],
            "text/plain": [
              "          Calories  ...  Iron (% Daily Value)\n",
              "count   260.000000  ...            260.000000\n",
              "mean    368.269231  ...              7.734615\n",
              "std     240.269886  ...              8.723263\n",
              "min       0.000000  ...              0.000000\n",
              "25%     210.000000  ...              0.000000\n",
              "50%     340.000000  ...              4.000000\n",
              "75%     500.000000  ...             15.000000\n",
              "max    1880.000000  ...             40.000000\n",
              "\n",
              "[8 rows x 21 columns]"
            ]
          },
          "metadata": {
            "tags": []
          },
          "execution_count": 6
        }
      ]
    },
    {
      "cell_type": "markdown",
      "metadata": {
        "id": "K_Bq0b9WgFRe"
      },
      "source": [
        "# 1. How many calories does the average McDonald's value meal contain?"
      ]
    },
    {
      "cell_type": "markdown",
      "metadata": {
        "id": "7thB9Iu6mlx5"
      },
      "source": [
        "Pilih fitur-fitur yang akan digunakan dalam pengolahan data, dalam kasus ini dipilih fitur \"Category\",\"Calories\",\"Calories from Fat\",dan \"Total Calories\". Pemilihan fitur tersebut dikarenakan kita akan membandingkan nilai kalori tiap menu berdasarkan kategory."
      ]
    },
    {
      "cell_type": "code",
      "metadata": {
        "colab": {
          "base_uri": "https://localhost:8080/",
          "height": 355
        },
        "id": "BMP4X5kicftr",
        "outputId": "01a74f43-3920-40f9-af18-2a8136269f46"
      },
      "source": [
        "calories_data = df.iloc[:,:5]\n",
        "calories_data['Total Calories'] = calories_data['Calories']+calories_data['Calories from Fat']\n",
        "calories_by_category = calories_data.groupby('Category').mean().sort_values(by='Total Calories')\n",
        "calories_by_category"
      ],
      "execution_count": 7,
      "outputs": [
        {
          "output_type": "execute_result",
          "data": {
            "text/html": [
              "<div>\n",
              "<style scoped>\n",
              "    .dataframe tbody tr th:only-of-type {\n",
              "        vertical-align: middle;\n",
              "    }\n",
              "\n",
              "    .dataframe tbody tr th {\n",
              "        vertical-align: top;\n",
              "    }\n",
              "\n",
              "    .dataframe thead th {\n",
              "        text-align: right;\n",
              "    }\n",
              "</style>\n",
              "<table border=\"1\" class=\"dataframe\">\n",
              "  <thead>\n",
              "    <tr style=\"text-align: right;\">\n",
              "      <th></th>\n",
              "      <th>Calories</th>\n",
              "      <th>Calories from Fat</th>\n",
              "      <th>Total Calories</th>\n",
              "    </tr>\n",
              "    <tr>\n",
              "      <th>Category</th>\n",
              "      <th></th>\n",
              "      <th></th>\n",
              "      <th></th>\n",
              "    </tr>\n",
              "  </thead>\n",
              "  <tbody>\n",
              "    <tr>\n",
              "      <th>Beverages</th>\n",
              "      <td>113.703704</td>\n",
              "      <td>0.740741</td>\n",
              "      <td>114.444444</td>\n",
              "    </tr>\n",
              "    <tr>\n",
              "      <th>Desserts</th>\n",
              "      <td>222.142857</td>\n",
              "      <td>64.285714</td>\n",
              "      <td>286.428571</td>\n",
              "    </tr>\n",
              "    <tr>\n",
              "      <th>Snacks &amp; Sides</th>\n",
              "      <td>245.769231</td>\n",
              "      <td>94.615385</td>\n",
              "      <td>340.384615</td>\n",
              "    </tr>\n",
              "    <tr>\n",
              "      <th>Coffee &amp; Tea</th>\n",
              "      <td>283.894737</td>\n",
              "      <td>71.105263</td>\n",
              "      <td>355.000000</td>\n",
              "    </tr>\n",
              "    <tr>\n",
              "      <th>Salads</th>\n",
              "      <td>270.000000</td>\n",
              "      <td>108.333333</td>\n",
              "      <td>378.333333</td>\n",
              "    </tr>\n",
              "    <tr>\n",
              "      <th>Smoothies &amp; Shakes</th>\n",
              "      <td>531.428571</td>\n",
              "      <td>127.678571</td>\n",
              "      <td>659.107143</td>\n",
              "    </tr>\n",
              "    <tr>\n",
              "      <th>Beef &amp; Pork</th>\n",
              "      <td>494.000000</td>\n",
              "      <td>224.666667</td>\n",
              "      <td>718.666667</td>\n",
              "    </tr>\n",
              "    <tr>\n",
              "      <th>Breakfast</th>\n",
              "      <td>526.666667</td>\n",
              "      <td>248.928571</td>\n",
              "      <td>775.595238</td>\n",
              "    </tr>\n",
              "    <tr>\n",
              "      <th>Chicken &amp; Fish</th>\n",
              "      <td>552.962963</td>\n",
              "      <td>242.222222</td>\n",
              "      <td>795.185185</td>\n",
              "    </tr>\n",
              "  </tbody>\n",
              "</table>\n",
              "</div>"
            ],
            "text/plain": [
              "                      Calories  Calories from Fat  Total Calories\n",
              "Category                                                         \n",
              "Beverages           113.703704           0.740741      114.444444\n",
              "Desserts            222.142857          64.285714      286.428571\n",
              "Snacks & Sides      245.769231          94.615385      340.384615\n",
              "Coffee & Tea        283.894737          71.105263      355.000000\n",
              "Salads              270.000000         108.333333      378.333333\n",
              "Smoothies & Shakes  531.428571         127.678571      659.107143\n",
              "Beef & Pork         494.000000         224.666667      718.666667\n",
              "Breakfast           526.666667         248.928571      775.595238\n",
              "Chicken & Fish      552.962963         242.222222      795.185185"
            ]
          },
          "metadata": {
            "tags": []
          },
          "execution_count": 7
        }
      ]
    },
    {
      "cell_type": "markdown",
      "metadata": {
        "id": "rLUFZN7HnkT4"
      },
      "source": [
        "Didapati tabel baru berupa hasil rata-rata jumlah kalori baik dari lemak maupun bukan dan juga total kalori secara keseluruhan"
      ]
    },
    {
      "cell_type": "code",
      "metadata": {
        "colab": {
          "base_uri": "https://localhost:8080/",
          "height": 281
        },
        "id": "iMR76-fTcjQJ",
        "outputId": "46a30877-8754-4ed7-c525-358c5cfa2a30"
      },
      "source": [
        "#Total Calories Average by Category \n",
        "calories_by_category.iloc[:,:2].plot(kind='barh', stacked=True)\n",
        "plt.title('Total Calories Average by Category')\n",
        "plt.ylabel('Total Calories')\n",
        "plt.show()"
      ],
      "execution_count": 8,
      "outputs": [
        {
          "output_type": "display_data",
          "data": {
            "image/png": "[encoded data removed]",
            "text/plain": [
              "<Figure size 432x288 with 1 Axes>"
            ]
          },
          "metadata": {
            "tags": [],
            "needs_background": "light"
          }
        }
      ]
    },
    {
      "cell_type": "markdown",
      "metadata": {
        "id": "1dFDTTl2n0Y-"
      },
      "source": [
        "Dari visualisasi data diketahui kategori menu Chicken & Fish memiliki rata-rata jumlah total kalori tertinggi."
      ]
    },
    {
      "cell_type": "markdown",
      "metadata": {
        "id": "EBlBVbV4hebL"
      },
      "source": [
        "# 2 How much do beverages, like soda or coffee, contribute to the overall caloric intake?"
      ]
    },
    {
      "cell_type": "markdown",
      "metadata": {
        "id": "5SjPQev2oGhN"
      },
      "source": [
        "Untuk mengetahui persentase kategori menu beverges terhadap keseluruhan divisualisasikan menggunakan Pie Chart dengan data set yang digunakan adalah hasil shorting data dari mencari jumlah kalori secara keseluruhan tiap kategori menu."
      ]
    },
    {
      "cell_type": "code",
      "metadata": {
        "colab": {
          "base_uri": "https://localhost:8080/",
          "height": 430
        },
        "id": "9POMVlLSclvE",
        "outputId": "c9b4751d-9d99-40a0-8de0-d431bb592b23"
      },
      "source": [
        "pie_df = df.groupby('Category', axis=0).sum()\n",
        "print(type(pie_df))\n",
        "colors_list = ['orange', 'maroon', 'coral', 'lightskyblue', 'lightgreen', 'pink', 'red', 'lightcoral', 'green']\n",
        "explode_list = [0, 0.2, 0, 0, 0.2, 0, 0, 0.2, 0] # ratio for each category with which to offset each wedge.\n",
        "\n",
        "pie_df['Calories'].plot(kind='pie',\n",
        "                            figsize=(15, 6),\n",
        "                            autopct='%1.1f%%', \n",
        "                            startangle=90,    \n",
        "                            shadow=True,       \n",
        "                            labels=None,         # turn off labels on pie chart\n",
        "                            pctdistance=1.2,    # the ratio between the center of each pie slice and the start of the text generated by autopct \n",
        "                            colors=colors_list,  # add custom colors\n",
        "                            explode=explode_list # 'explode' lowest 3 Categories\n",
        "                            )\n",
        "\n",
        "# scale the title up by 12% to match pctdistance\n",
        "plt.title('Calories intake contribution', y=1.12) \n",
        "\n",
        "plt.axis('equal') \n",
        "\n",
        "# add legend\n",
        "plt.legend(labels=pie_df.index, loc='upper left') \n",
        "\n",
        "plt.show()"
      ],
      "execution_count": 9,
      "outputs": [
        {
          "output_type": "stream",
          "text": [
            "<class 'pandas.core.frame.DataFrame'>\n"
          ],
          "name": "stdout"
        },
        {
          "output_type": "display_data",
          "data": {
            "image/png": "[encoded data removed]",
            "text/plain": [
              "<Figure size 1080x432 with 1 Axes>"
            ]
          },
          "metadata": {
            "tags": []
          }
        }
      ]
    },
    {
      "cell_type": "markdown",
      "metadata": {
        "id": "0jU15hrFotgU"
      },
      "source": [
        "Visualisasi Pie Char menggambarkan bahwa kategori menu beverages mneyumbang 3.2% dari total keseluruhan menu"
      ]
    },
    {
      "cell_type": "markdown",
      "metadata": {
        "id": "tJ2_w-3KhlMY"
      },
      "source": [
        "# 3 Does ordered grilled chicken instead of crispy increase a sandwich's nutritional value?"
      ]
    },
    {
      "cell_type": "code",
      "metadata": {
        "colab": {
          "base_uri": "https://localhost:8080/",
          "height": 685
        },
        "id": "vbaGhL9oyJtQ",
        "outputId": "1d0f4446-b2ee-4f0c-a4b5-b2819ed1c203"
      },
      "source": [
        "header = df.columns.tolist()\n",
        "nutrition = ['Serving Size',\n",
        " 'Calories',\n",
        " 'Calories from Fat',\n",
        " 'Total Fat',\n",
        " 'Total Fat (% Daily Value)',\n",
        " 'Saturated Fat',\n",
        " 'Saturated Fat (% Daily Value)',\n",
        " 'Trans Fat',\n",
        " 'Cholesterol',\n",
        " 'Cholesterol (% Daily Value)',\n",
        " 'Sodium',\n",
        " 'Sodium (% Daily Value)',\n",
        " 'Carbohydrates',\n",
        " 'Carbohydrates (% Daily Value)',\n",
        " 'Dietary Fiber',\n",
        " 'Dietary Fiber (% Daily Value)',\n",
        " 'Sugars',\n",
        " 'Protein',\n",
        " 'Vitamin A (% Daily Value)',\n",
        " 'Vitamin C (% Daily Value)',\n",
        " 'Calcium (% Daily Value)',\n",
        " 'Iron (% Daily Value)']\n",
        "\n",
        "corr = df[nutrition].corr()\n",
        "\n",
        "mask = np.zeros_like(corr)\n",
        "mask[np.triu_indices_from(mask)] = True\n",
        "\n",
        "fig = plt.figure(figsize = (10,10))\n",
        "ax = sns.heatmap(corr,\n",
        "                 mask = mask,\n",
        "                 square =True,\n",
        "                 cmap=\"vlag\",\n",
        "                 annot=True\n",
        "                )\n",
        "ax.set_title(\"Nutrition Correlation\");"
      ],
      "execution_count": 10,
      "outputs": [
        {
          "output_type": "display_data",
          "data": {
            "image/png": "[encoded data removed]",
            "text/plain": [
              "<Figure size 720x720 with 2 Axes>"
            ]
          },
          "metadata": {
            "tags": [],
            "needs_background": "light"
          }
        }
      ]
    },
    {
      "cell_type": "markdown",
      "metadata": {
        "id": "qpWrVfm7pSqC"
      },
      "source": [
        "Dari heat map di atas, dapat kita ketahui bahwa Fat memiliki korelasi paling tinggi dengan kalori, diikuti oleh protein pada urutan kedua (0.79) dan pada urutan ketiga, karbohidrat (0.78). Selain itu korelasi dengan kalori, ada korelasi yang tinggi dengan fitur lain, misalnya sodium dan iron (0.87) dan sodium dengan protein (0.87)"
      ]
    },
    {
      "cell_type": "code",
      "metadata": {
        "id": "A1wiLCjRcrWi",
        "colab": {
          "base_uri": "https://localhost:8080/",
          "height": 657
        },
        "outputId": "f3651588-dcb5-48fe-ea11-8da28dca1a3f"
      },
      "source": [
        "sandwich_data = df[df['Item'].str.contains('Sandwich')]\n",
        "sandwich_data = sandwich_data.iloc[:,[1,6,8,11,13,15,17,20,21,22,23]]\n",
        "sandwich_data['Total Value'] = sandwich_data.sum(axis=1)\n",
        "sandwich_data['Chicken Type'] = sandwich_data['Item'].str.extract(\"(Crispy|Grilled)\")\n",
        "sandwich_data\n"
      ],
      "execution_count": 11,
      "outputs": [
        {
          "output_type": "execute_result",
          "data": {
            "text/html": [
              "<div>\n",
              "<style scoped>\n",
              "    .dataframe tbody tr th:only-of-type {\n",
              "        vertical-align: middle;\n",
              "    }\n",
              "\n",
              "    .dataframe tbody tr th {\n",
              "        vertical-align: top;\n",
              "    }\n",
              "\n",
              "    .dataframe thead th {\n",
              "        text-align: right;\n",
              "    }\n",
              "</style>\n",
              "<table border=\"1\" class=\"dataframe\">\n",
              "  <thead>\n",
              "    <tr style=\"text-align: right;\">\n",
              "      <th></th>\n",
              "      <th>Item</th>\n",
              "      <th>Total Fat (% Daily Value)</th>\n",
              "      <th>Saturated Fat (% Daily Value)</th>\n",
              "      <th>Cholesterol (% Daily Value)</th>\n",
              "      <th>Sodium (% Daily Value)</th>\n",
              "      <th>Carbohydrates (% Daily Value)</th>\n",
              "      <th>Dietary Fiber (% Daily Value)</th>\n",
              "      <th>Vitamin A (% Daily Value)</th>\n",
              "      <th>Vitamin C (% Daily Value)</th>\n",
              "      <th>Calcium (% Daily Value)</th>\n",
              "      <th>Iron (% Daily Value)</th>\n",
              "      <th>Total Value</th>\n",
              "      <th>Chicken Type</th>\n",
              "    </tr>\n",
              "  </thead>\n",
              "  <tbody>\n",
              "    <tr>\n",
              "      <th>57</th>\n",
              "      <td>Premium Crispy Chicken Classic Sandwich</td>\n",
              "      <td>33</td>\n",
              "      <td>18</td>\n",
              "      <td>16</td>\n",
              "      <td>41</td>\n",
              "      <td>18</td>\n",
              "      <td>13</td>\n",
              "      <td>4</td>\n",
              "      <td>6</td>\n",
              "      <td>15</td>\n",
              "      <td>20</td>\n",
              "      <td>184</td>\n",
              "      <td>Crispy</td>\n",
              "    </tr>\n",
              "    <tr>\n",
              "      <th>58</th>\n",
              "      <td>Premium Grilled Chicken Classic Sandwich</td>\n",
              "      <td>13</td>\n",
              "      <td>9</td>\n",
              "      <td>22</td>\n",
              "      <td>34</td>\n",
              "      <td>14</td>\n",
              "      <td>13</td>\n",
              "      <td>4</td>\n",
              "      <td>8</td>\n",
              "      <td>15</td>\n",
              "      <td>20</td>\n",
              "      <td>152</td>\n",
              "      <td>Grilled</td>\n",
              "    </tr>\n",
              "    <tr>\n",
              "      <th>59</th>\n",
              "      <td>Premium Crispy Chicken Club Sandwich</td>\n",
              "      <td>51</td>\n",
              "      <td>44</td>\n",
              "      <td>29</td>\n",
              "      <td>59</td>\n",
              "      <td>19</td>\n",
              "      <td>14</td>\n",
              "      <td>8</td>\n",
              "      <td>20</td>\n",
              "      <td>30</td>\n",
              "      <td>20</td>\n",
              "      <td>294</td>\n",
              "      <td>Crispy</td>\n",
              "    </tr>\n",
              "    <tr>\n",
              "      <th>60</th>\n",
              "      <td>Premium Grilled Chicken Club Sandwich</td>\n",
              "      <td>31</td>\n",
              "      <td>36</td>\n",
              "      <td>35</td>\n",
              "      <td>52</td>\n",
              "      <td>15</td>\n",
              "      <td>13</td>\n",
              "      <td>8</td>\n",
              "      <td>20</td>\n",
              "      <td>30</td>\n",
              "      <td>20</td>\n",
              "      <td>260</td>\n",
              "      <td>Grilled</td>\n",
              "    </tr>\n",
              "    <tr>\n",
              "      <th>61</th>\n",
              "      <td>Premium Crispy Chicken Ranch BLT Sandwich</td>\n",
              "      <td>43</td>\n",
              "      <td>31</td>\n",
              "      <td>24</td>\n",
              "      <td>58</td>\n",
              "      <td>19</td>\n",
              "      <td>13</td>\n",
              "      <td>4</td>\n",
              "      <td>20</td>\n",
              "      <td>15</td>\n",
              "      <td>20</td>\n",
              "      <td>247</td>\n",
              "      <td>Crispy</td>\n",
              "    </tr>\n",
              "    <tr>\n",
              "      <th>62</th>\n",
              "      <td>Premium Grilled Chicken Ranch BLT Sandwich</td>\n",
              "      <td>23</td>\n",
              "      <td>22</td>\n",
              "      <td>30</td>\n",
              "      <td>51</td>\n",
              "      <td>14</td>\n",
              "      <td>13</td>\n",
              "      <td>4</td>\n",
              "      <td>20</td>\n",
              "      <td>15</td>\n",
              "      <td>20</td>\n",
              "      <td>212</td>\n",
              "      <td>Grilled</td>\n",
              "    </tr>\n",
              "    <tr>\n",
              "      <th>63</th>\n",
              "      <td>Bacon Clubhouse Crispy Chicken Sandwich</td>\n",
              "      <td>59</td>\n",
              "      <td>51</td>\n",
              "      <td>31</td>\n",
              "      <td>72</td>\n",
              "      <td>22</td>\n",
              "      <td>15</td>\n",
              "      <td>8</td>\n",
              "      <td>25</td>\n",
              "      <td>30</td>\n",
              "      <td>15</td>\n",
              "      <td>328</td>\n",
              "      <td>Crispy</td>\n",
              "    </tr>\n",
              "    <tr>\n",
              "      <th>64</th>\n",
              "      <td>Bacon Clubhouse Grilled Chicken Sandwich</td>\n",
              "      <td>39</td>\n",
              "      <td>42</td>\n",
              "      <td>37</td>\n",
              "      <td>65</td>\n",
              "      <td>17</td>\n",
              "      <td>15</td>\n",
              "      <td>8</td>\n",
              "      <td>30</td>\n",
              "      <td>30</td>\n",
              "      <td>15</td>\n",
              "      <td>298</td>\n",
              "      <td>Grilled</td>\n",
              "    </tr>\n",
              "    <tr>\n",
              "      <th>65</th>\n",
              "      <td>Southern Style Crispy Chicken Sandwich</td>\n",
              "      <td>29</td>\n",
              "      <td>15</td>\n",
              "      <td>14</td>\n",
              "      <td>38</td>\n",
              "      <td>14</td>\n",
              "      <td>7</td>\n",
              "      <td>4</td>\n",
              "      <td>2</td>\n",
              "      <td>15</td>\n",
              "      <td>15</td>\n",
              "      <td>153</td>\n",
              "      <td>Crispy</td>\n",
              "    </tr>\n",
              "  </tbody>\n",
              "</table>\n",
              "</div>"
            ],
            "text/plain": [
              "                                          Item  ...  Chicken Type\n",
              "57     Premium Crispy Chicken Classic Sandwich  ...        Crispy\n",
              "58    Premium Grilled Chicken Classic Sandwich  ...       Grilled\n",
              "59        Premium Crispy Chicken Club Sandwich  ...        Crispy\n",
              "60       Premium Grilled Chicken Club Sandwich  ...       Grilled\n",
              "61   Premium Crispy Chicken Ranch BLT Sandwich  ...        Crispy\n",
              "62  Premium Grilled Chicken Ranch BLT Sandwich  ...       Grilled\n",
              "63     Bacon Clubhouse Crispy Chicken Sandwich  ...        Crispy\n",
              "64    Bacon Clubhouse Grilled Chicken Sandwich  ...       Grilled\n",
              "65      Southern Style Crispy Chicken Sandwich  ...        Crispy\n",
              "\n",
              "[9 rows x 13 columns]"
            ]
          },
          "metadata": {
            "tags": []
          },
          "execution_count": 11
        }
      ]
    },
    {
      "cell_type": "code",
      "metadata": {
        "colab": {
          "base_uri": "https://localhost:8080/",
          "height": 191
        },
        "id": "NtUc-FmCcvOk",
        "outputId": "2350f11a-2b2e-44b7-b2b4-acdcad959b1b"
      },
      "source": [
        "chicken_data = sandwich_data.groupby('Chicken Type').mean().sort_values(by='Total Value')\n",
        "chicken_data"
      ],
      "execution_count": 12,
      "outputs": [
        {
          "output_type": "execute_result",
          "data": {
            "text/html": [
              "<div>\n",
              "<style scoped>\n",
              "    .dataframe tbody tr th:only-of-type {\n",
              "        vertical-align: middle;\n",
              "    }\n",
              "\n",
              "    .dataframe tbody tr th {\n",
              "        vertical-align: top;\n",
              "    }\n",
              "\n",
              "    .dataframe thead th {\n",
              "        text-align: right;\n",
              "    }\n",
              "</style>\n",
              "<table border=\"1\" class=\"dataframe\">\n",
              "  <thead>\n",
              "    <tr style=\"text-align: right;\">\n",
              "      <th></th>\n",
              "      <th>Total Fat (% Daily Value)</th>\n",
              "      <th>Saturated Fat (% Daily Value)</th>\n",
              "      <th>Cholesterol (% Daily Value)</th>\n",
              "      <th>Sodium (% Daily Value)</th>\n",
              "      <th>Carbohydrates (% Daily Value)</th>\n",
              "      <th>Dietary Fiber (% Daily Value)</th>\n",
              "      <th>Vitamin A (% Daily Value)</th>\n",
              "      <th>Vitamin C (% Daily Value)</th>\n",
              "      <th>Calcium (% Daily Value)</th>\n",
              "      <th>Iron (% Daily Value)</th>\n",
              "      <th>Total Value</th>\n",
              "    </tr>\n",
              "    <tr>\n",
              "      <th>Chicken Type</th>\n",
              "      <th></th>\n",
              "      <th></th>\n",
              "      <th></th>\n",
              "      <th></th>\n",
              "      <th></th>\n",
              "      <th></th>\n",
              "      <th></th>\n",
              "      <th></th>\n",
              "      <th></th>\n",
              "      <th></th>\n",
              "      <th></th>\n",
              "    </tr>\n",
              "  </thead>\n",
              "  <tbody>\n",
              "    <tr>\n",
              "      <th>Grilled</th>\n",
              "      <td>26.5</td>\n",
              "      <td>27.25</td>\n",
              "      <td>31.0</td>\n",
              "      <td>50.5</td>\n",
              "      <td>15.0</td>\n",
              "      <td>13.5</td>\n",
              "      <td>6.0</td>\n",
              "      <td>19.5</td>\n",
              "      <td>22.5</td>\n",
              "      <td>18.75</td>\n",
              "      <td>230.5</td>\n",
              "    </tr>\n",
              "    <tr>\n",
              "      <th>Crispy</th>\n",
              "      <td>43.0</td>\n",
              "      <td>31.80</td>\n",
              "      <td>22.8</td>\n",
              "      <td>53.6</td>\n",
              "      <td>18.4</td>\n",
              "      <td>12.4</td>\n",
              "      <td>5.6</td>\n",
              "      <td>14.6</td>\n",
              "      <td>21.0</td>\n",
              "      <td>18.00</td>\n",
              "      <td>241.2</td>\n",
              "    </tr>\n",
              "  </tbody>\n",
              "</table>\n",
              "</div>"
            ],
            "text/plain": [
              "              Total Fat (% Daily Value)  ...  Total Value\n",
              "Chicken Type                             ...             \n",
              "Grilled                            26.5  ...        230.5\n",
              "Crispy                             43.0  ...        241.2\n",
              "\n",
              "[2 rows x 11 columns]"
            ]
          },
          "metadata": {
            "tags": []
          },
          "execution_count": 12
        }
      ]
    },
    {
      "cell_type": "code",
      "metadata": {
        "colab": {
          "base_uri": "https://localhost:8080/",
          "height": 317
        },
        "id": "kjzBqIbwZDqS",
        "outputId": "a423b016-8bd2-4b1a-abb3-d1f2c7596d37"
      },
      "source": [
        "chicken_data.iloc[:,:10].plot(kind='bar', stacked=False)\n",
        "plt.title('Total Nutritions by Chicken Type')\n",
        "plt.ylabel('Nutririons')\n",
        "plt.xlabel('Chicken Type')\n",
        "\n",
        "plt.legend(loc=\"upper left\", bbox_to_anchor=(1, 0.5, 0, 0.52))\n",
        "\n",
        "plt.show()   "
      ],
      "execution_count": 13,
      "outputs": [
        {
          "output_type": "display_data",
          "data": {
            "image/png": "[encoded data removed]",
            "text/plain": [
              "<Figure size 432x288 with 1 Axes>"
            ]
          },
          "metadata": {
            "tags": [],
            "needs_background": "light"
          }
        }
      ]
    },
    {
      "cell_type": "markdown",
      "metadata": {
        "id": "wyyeOOehsuOv"
      },
      "source": [
        "Dari grafik di atas, dapat dilihat bilamana banyak nutrisi baik pada Menu Sandwich dengan isian Grilled Chicken lebih tinggi daripada menu Sandwich dengan isian Crispy Chicken."
      ]
    },
    {
      "cell_type": "markdown",
      "metadata": {
        "id": "69rNcM6ohrQ_"
      },
      "source": [
        "# 4 What about ordering egg whites instead of whole eggs?"
      ]
    },
    {
      "cell_type": "markdown",
      "metadata": {
        "id": "htANK4b_suOw"
      },
      "source": [
        "Sebelum menganalisis lebih jauh, isi dari data set difilter terlebih dahulu, kemudian menu yang mengandung telur ditampilkan seperti pada tabel berikut ini."
      ]
    },
    {
      "cell_type": "code",
      "metadata": {
        "colab": {
          "base_uri": "https://localhost:8080/",
          "height": 1000
        },
        "id": "g_iAEJhAc0XR",
        "outputId": "839addf2-4834-450c-8c67-8ffbdd3fed0f"
      },
      "source": [
        "egg_data = df[df['Item'].str.contains('Egg')]\n",
        "egg_data = egg_data.iloc[:,[1,6,8,11,13,15,17,20,21,22,23]]\n",
        "egg_data['Total Value'] = egg_data.sum(axis=1)\n",
        "egg_data['Egg Type'] = egg_data['Item'].str.extract(\"(Egg Whites|Egg)\")\n",
        "egg_data"
      ],
      "execution_count": 14,
      "outputs": [
        {
          "output_type": "execute_result",
          "data": {
            "text/html": [
              "<div>\n",
              "<style scoped>\n",
              "    .dataframe tbody tr th:only-of-type {\n",
              "        vertical-align: middle;\n",
              "    }\n",
              "\n",
              "    .dataframe tbody tr th {\n",
              "        vertical-align: top;\n",
              "    }\n",
              "\n",
              "    .dataframe thead th {\n",
              "        text-align: right;\n",
              "    }\n",
              "</style>\n",
              "<table border=\"1\" class=\"dataframe\">\n",
              "  <thead>\n",
              "    <tr style=\"text-align: right;\">\n",
              "      <th></th>\n",
              "      <th>Item</th>\n",
              "      <th>Total Fat (% Daily Value)</th>\n",
              "      <th>Saturated Fat (% Daily Value)</th>\n",
              "      <th>Cholesterol (% Daily Value)</th>\n",
              "      <th>Sodium (% Daily Value)</th>\n",
              "      <th>Carbohydrates (% Daily Value)</th>\n",
              "      <th>Dietary Fiber (% Daily Value)</th>\n",
              "      <th>Vitamin A (% Daily Value)</th>\n",
              "      <th>Vitamin C (% Daily Value)</th>\n",
              "      <th>Calcium (% Daily Value)</th>\n",
              "      <th>Iron (% Daily Value)</th>\n",
              "      <th>Total Value</th>\n",
              "      <th>Egg Type</th>\n",
              "    </tr>\n",
              "  </thead>\n",
              "  <tbody>\n",
              "    <tr>\n",
              "      <th>0</th>\n",
              "      <td>Egg McMuffin</td>\n",
              "      <td>20</td>\n",
              "      <td>25</td>\n",
              "      <td>87</td>\n",
              "      <td>31</td>\n",
              "      <td>10</td>\n",
              "      <td>17</td>\n",
              "      <td>10</td>\n",
              "      <td>0</td>\n",
              "      <td>25</td>\n",
              "      <td>15</td>\n",
              "      <td>240</td>\n",
              "      <td>Egg</td>\n",
              "    </tr>\n",
              "    <tr>\n",
              "      <th>1</th>\n",
              "      <td>Egg White Delight</td>\n",
              "      <td>12</td>\n",
              "      <td>15</td>\n",
              "      <td>8</td>\n",
              "      <td>32</td>\n",
              "      <td>10</td>\n",
              "      <td>17</td>\n",
              "      <td>6</td>\n",
              "      <td>0</td>\n",
              "      <td>25</td>\n",
              "      <td>8</td>\n",
              "      <td>133</td>\n",
              "      <td>Egg</td>\n",
              "    </tr>\n",
              "    <tr>\n",
              "      <th>3</th>\n",
              "      <td>Sausage McMuffin with Egg</td>\n",
              "      <td>43</td>\n",
              "      <td>52</td>\n",
              "      <td>95</td>\n",
              "      <td>36</td>\n",
              "      <td>10</td>\n",
              "      <td>17</td>\n",
              "      <td>15</td>\n",
              "      <td>0</td>\n",
              "      <td>30</td>\n",
              "      <td>15</td>\n",
              "      <td>313</td>\n",
              "      <td>Egg</td>\n",
              "    </tr>\n",
              "    <tr>\n",
              "      <th>4</th>\n",
              "      <td>Sausage McMuffin with Egg Whites</td>\n",
              "      <td>35</td>\n",
              "      <td>42</td>\n",
              "      <td>16</td>\n",
              "      <td>37</td>\n",
              "      <td>10</td>\n",
              "      <td>17</td>\n",
              "      <td>6</td>\n",
              "      <td>0</td>\n",
              "      <td>25</td>\n",
              "      <td>10</td>\n",
              "      <td>198</td>\n",
              "      <td>Egg Whites</td>\n",
              "    </tr>\n",
              "    <tr>\n",
              "      <th>5</th>\n",
              "      <td>Steak &amp; Egg McMuffin</td>\n",
              "      <td>36</td>\n",
              "      <td>46</td>\n",
              "      <td>100</td>\n",
              "      <td>40</td>\n",
              "      <td>10</td>\n",
              "      <td>18</td>\n",
              "      <td>15</td>\n",
              "      <td>2</td>\n",
              "      <td>30</td>\n",
              "      <td>20</td>\n",
              "      <td>317</td>\n",
              "      <td>Egg</td>\n",
              "    </tr>\n",
              "    <tr>\n",
              "      <th>6</th>\n",
              "      <td>Bacon, Egg &amp; Cheese Biscuit (Regular Biscuit)</td>\n",
              "      <td>40</td>\n",
              "      <td>65</td>\n",
              "      <td>83</td>\n",
              "      <td>54</td>\n",
              "      <td>13</td>\n",
              "      <td>7</td>\n",
              "      <td>10</td>\n",
              "      <td>8</td>\n",
              "      <td>15</td>\n",
              "      <td>15</td>\n",
              "      <td>310</td>\n",
              "      <td>Egg</td>\n",
              "    </tr>\n",
              "    <tr>\n",
              "      <th>7</th>\n",
              "      <td>Bacon, Egg &amp; Cheese Biscuit (Large Biscuit)</td>\n",
              "      <td>47</td>\n",
              "      <td>68</td>\n",
              "      <td>83</td>\n",
              "      <td>59</td>\n",
              "      <td>14</td>\n",
              "      <td>12</td>\n",
              "      <td>15</td>\n",
              "      <td>8</td>\n",
              "      <td>20</td>\n",
              "      <td>20</td>\n",
              "      <td>346</td>\n",
              "      <td>Egg</td>\n",
              "    </tr>\n",
              "    <tr>\n",
              "      <th>8</th>\n",
              "      <td>Bacon, Egg &amp; Cheese Biscuit with Egg Whites (R...</td>\n",
              "      <td>32</td>\n",
              "      <td>56</td>\n",
              "      <td>11</td>\n",
              "      <td>54</td>\n",
              "      <td>12</td>\n",
              "      <td>7</td>\n",
              "      <td>2</td>\n",
              "      <td>8</td>\n",
              "      <td>15</td>\n",
              "      <td>10</td>\n",
              "      <td>207</td>\n",
              "      <td>Egg</td>\n",
              "    </tr>\n",
              "    <tr>\n",
              "      <th>9</th>\n",
              "      <td>Bacon, Egg &amp; Cheese Biscuit with Egg Whites (L...</td>\n",
              "      <td>38</td>\n",
              "      <td>59</td>\n",
              "      <td>11</td>\n",
              "      <td>59</td>\n",
              "      <td>14</td>\n",
              "      <td>12</td>\n",
              "      <td>6</td>\n",
              "      <td>8</td>\n",
              "      <td>15</td>\n",
              "      <td>15</td>\n",
              "      <td>237</td>\n",
              "      <td>Egg</td>\n",
              "    </tr>\n",
              "    <tr>\n",
              "      <th>12</th>\n",
              "      <td>Sausage Biscuit with Egg (Regular Biscuit)</td>\n",
              "      <td>50</td>\n",
              "      <td>71</td>\n",
              "      <td>83</td>\n",
              "      <td>49</td>\n",
              "      <td>12</td>\n",
              "      <td>6</td>\n",
              "      <td>6</td>\n",
              "      <td>0</td>\n",
              "      <td>10</td>\n",
              "      <td>20</td>\n",
              "      <td>307</td>\n",
              "      <td>Egg</td>\n",
              "    </tr>\n",
              "    <tr>\n",
              "      <th>13</th>\n",
              "      <td>Sausage Biscuit with Egg (Large Biscuit)</td>\n",
              "      <td>57</td>\n",
              "      <td>74</td>\n",
              "      <td>83</td>\n",
              "      <td>53</td>\n",
              "      <td>14</td>\n",
              "      <td>11</td>\n",
              "      <td>10</td>\n",
              "      <td>0</td>\n",
              "      <td>10</td>\n",
              "      <td>20</td>\n",
              "      <td>332</td>\n",
              "      <td>Egg</td>\n",
              "    </tr>\n",
              "    <tr>\n",
              "      <th>14</th>\n",
              "      <td>Sausage Biscuit with Egg Whites (Regular Biscuit)</td>\n",
              "      <td>42</td>\n",
              "      <td>62</td>\n",
              "      <td>11</td>\n",
              "      <td>49</td>\n",
              "      <td>11</td>\n",
              "      <td>6</td>\n",
              "      <td>0</td>\n",
              "      <td>0</td>\n",
              "      <td>8</td>\n",
              "      <td>15</td>\n",
              "      <td>204</td>\n",
              "      <td>Egg Whites</td>\n",
              "    </tr>\n",
              "    <tr>\n",
              "      <th>15</th>\n",
              "      <td>Sausage Biscuit with Egg Whites (Large Biscuit)</td>\n",
              "      <td>49</td>\n",
              "      <td>65</td>\n",
              "      <td>11</td>\n",
              "      <td>54</td>\n",
              "      <td>13</td>\n",
              "      <td>11</td>\n",
              "      <td>4</td>\n",
              "      <td>0</td>\n",
              "      <td>8</td>\n",
              "      <td>15</td>\n",
              "      <td>230</td>\n",
              "      <td>Egg Whites</td>\n",
              "    </tr>\n",
              "    <tr>\n",
              "      <th>18</th>\n",
              "      <td>Steak &amp; Egg Biscuit (Regular Biscuit)</td>\n",
              "      <td>49</td>\n",
              "      <td>78</td>\n",
              "      <td>93</td>\n",
              "      <td>61</td>\n",
              "      <td>13</td>\n",
              "      <td>8</td>\n",
              "      <td>10</td>\n",
              "      <td>2</td>\n",
              "      <td>20</td>\n",
              "      <td>25</td>\n",
              "      <td>359</td>\n",
              "      <td>Egg</td>\n",
              "    </tr>\n",
              "    <tr>\n",
              "      <th>19</th>\n",
              "      <td>Bacon, Egg &amp; Cheese McGriddles</td>\n",
              "      <td>32</td>\n",
              "      <td>44</td>\n",
              "      <td>84</td>\n",
              "      <td>52</td>\n",
              "      <td>16</td>\n",
              "      <td>9</td>\n",
              "      <td>10</td>\n",
              "      <td>10</td>\n",
              "      <td>20</td>\n",
              "      <td>15</td>\n",
              "      <td>292</td>\n",
              "      <td>Egg</td>\n",
              "    </tr>\n",
              "    <tr>\n",
              "      <th>20</th>\n",
              "      <td>Bacon, Egg &amp; Cheese McGriddles with Egg Whites</td>\n",
              "      <td>24</td>\n",
              "      <td>34</td>\n",
              "      <td>11</td>\n",
              "      <td>52</td>\n",
              "      <td>16</td>\n",
              "      <td>9</td>\n",
              "      <td>2</td>\n",
              "      <td>10</td>\n",
              "      <td>15</td>\n",
              "      <td>10</td>\n",
              "      <td>183</td>\n",
              "      <td>Egg</td>\n",
              "    </tr>\n",
              "    <tr>\n",
              "      <th>22</th>\n",
              "      <td>Sausage, Egg &amp; Cheese McGriddles</td>\n",
              "      <td>48</td>\n",
              "      <td>61</td>\n",
              "      <td>89</td>\n",
              "      <td>55</td>\n",
              "      <td>16</td>\n",
              "      <td>9</td>\n",
              "      <td>10</td>\n",
              "      <td>0</td>\n",
              "      <td>20</td>\n",
              "      <td>15</td>\n",
              "      <td>323</td>\n",
              "      <td>Egg</td>\n",
              "    </tr>\n",
              "    <tr>\n",
              "      <th>23</th>\n",
              "      <td>Sausage, Egg &amp; Cheese McGriddles with Egg Whites</td>\n",
              "      <td>40</td>\n",
              "      <td>52</td>\n",
              "      <td>17</td>\n",
              "      <td>55</td>\n",
              "      <td>15</td>\n",
              "      <td>9</td>\n",
              "      <td>2</td>\n",
              "      <td>0</td>\n",
              "      <td>20</td>\n",
              "      <td>10</td>\n",
              "      <td>220</td>\n",
              "      <td>Egg</td>\n",
              "    </tr>\n",
              "    <tr>\n",
              "      <th>24</th>\n",
              "      <td>Bacon, Egg &amp; Cheese Bagel</td>\n",
              "      <td>48</td>\n",
              "      <td>56</td>\n",
              "      <td>92</td>\n",
              "      <td>62</td>\n",
              "      <td>19</td>\n",
              "      <td>11</td>\n",
              "      <td>20</td>\n",
              "      <td>15</td>\n",
              "      <td>20</td>\n",
              "      <td>20</td>\n",
              "      <td>363</td>\n",
              "      <td>Egg</td>\n",
              "    </tr>\n",
              "    <tr>\n",
              "      <th>25</th>\n",
              "      <td>Bacon, Egg &amp; Cheese Bagel with Egg Whites</td>\n",
              "      <td>39</td>\n",
              "      <td>45</td>\n",
              "      <td>20</td>\n",
              "      <td>62</td>\n",
              "      <td>18</td>\n",
              "      <td>12</td>\n",
              "      <td>10</td>\n",
              "      <td>15</td>\n",
              "      <td>20</td>\n",
              "      <td>15</td>\n",
              "      <td>256</td>\n",
              "      <td>Egg</td>\n",
              "    </tr>\n",
              "    <tr>\n",
              "      <th>26</th>\n",
              "      <td>Steak, Egg &amp; Cheese Bagel</td>\n",
              "      <td>53</td>\n",
              "      <td>63</td>\n",
              "      <td>99</td>\n",
              "      <td>63</td>\n",
              "      <td>19</td>\n",
              "      <td>12</td>\n",
              "      <td>20</td>\n",
              "      <td>4</td>\n",
              "      <td>25</td>\n",
              "      <td>25</td>\n",
              "      <td>383</td>\n",
              "      <td>Egg</td>\n",
              "    </tr>\n",
              "    <tr>\n",
              "      <th>29</th>\n",
              "      <td>Big Breakfast with Egg Whites (Regular Biscuit)</td>\n",
              "      <td>57</td>\n",
              "      <td>69</td>\n",
              "      <td>12</td>\n",
              "      <td>66</td>\n",
              "      <td>17</td>\n",
              "      <td>12</td>\n",
              "      <td>0</td>\n",
              "      <td>2</td>\n",
              "      <td>10</td>\n",
              "      <td>15</td>\n",
              "      <td>260</td>\n",
              "      <td>Egg Whites</td>\n",
              "    </tr>\n",
              "    <tr>\n",
              "      <th>30</th>\n",
              "      <td>Big Breakfast with Egg Whites (Large Biscuit)</td>\n",
              "      <td>63</td>\n",
              "      <td>72</td>\n",
              "      <td>12</td>\n",
              "      <td>71</td>\n",
              "      <td>18</td>\n",
              "      <td>17</td>\n",
              "      <td>4</td>\n",
              "      <td>2</td>\n",
              "      <td>10</td>\n",
              "      <td>15</td>\n",
              "      <td>284</td>\n",
              "      <td>Egg Whites</td>\n",
              "    </tr>\n",
              "    <tr>\n",
              "      <th>33</th>\n",
              "      <td>Big Breakfast with Hotcakes and Egg Whites (Re...</td>\n",
              "      <td>70</td>\n",
              "      <td>78</td>\n",
              "      <td>19</td>\n",
              "      <td>91</td>\n",
              "      <td>37</td>\n",
              "      <td>23</td>\n",
              "      <td>0</td>\n",
              "      <td>2</td>\n",
              "      <td>25</td>\n",
              "      <td>30</td>\n",
              "      <td>375</td>\n",
              "      <td>Egg Whites</td>\n",
              "    </tr>\n",
              "    <tr>\n",
              "      <th>34</th>\n",
              "      <td>Big Breakfast with Hotcakes and Egg Whites (La...</td>\n",
              "      <td>77</td>\n",
              "      <td>81</td>\n",
              "      <td>19</td>\n",
              "      <td>95</td>\n",
              "      <td>38</td>\n",
              "      <td>28</td>\n",
              "      <td>4</td>\n",
              "      <td>2</td>\n",
              "      <td>25</td>\n",
              "      <td>30</td>\n",
              "      <td>399</td>\n",
              "      <td>Egg Whites</td>\n",
              "    </tr>\n",
              "  </tbody>\n",
              "</table>\n",
              "</div>"
            ],
            "text/plain": [
              "                                                 Item  ...    Egg Type\n",
              "0                                        Egg McMuffin  ...         Egg\n",
              "1                                   Egg White Delight  ...         Egg\n",
              "3                           Sausage McMuffin with Egg  ...         Egg\n",
              "4                    Sausage McMuffin with Egg Whites  ...  Egg Whites\n",
              "5                                Steak & Egg McMuffin  ...         Egg\n",
              "6       Bacon, Egg & Cheese Biscuit (Regular Biscuit)  ...         Egg\n",
              "7         Bacon, Egg & Cheese Biscuit (Large Biscuit)  ...         Egg\n",
              "8   Bacon, Egg & Cheese Biscuit with Egg Whites (R...  ...         Egg\n",
              "9   Bacon, Egg & Cheese Biscuit with Egg Whites (L...  ...         Egg\n",
              "12         Sausage Biscuit with Egg (Regular Biscuit)  ...         Egg\n",
              "13           Sausage Biscuit with Egg (Large Biscuit)  ...         Egg\n",
              "14  Sausage Biscuit with Egg Whites (Regular Biscuit)  ...  Egg Whites\n",
              "15    Sausage Biscuit with Egg Whites (Large Biscuit)  ...  Egg Whites\n",
              "18              Steak & Egg Biscuit (Regular Biscuit)  ...         Egg\n",
              "19                     Bacon, Egg & Cheese McGriddles  ...         Egg\n",
              "20     Bacon, Egg & Cheese McGriddles with Egg Whites  ...         Egg\n",
              "22                   Sausage, Egg & Cheese McGriddles  ...         Egg\n",
              "23   Sausage, Egg & Cheese McGriddles with Egg Whites  ...         Egg\n",
              "24                          Bacon, Egg & Cheese Bagel  ...         Egg\n",
              "25          Bacon, Egg & Cheese Bagel with Egg Whites  ...         Egg\n",
              "26                          Steak, Egg & Cheese Bagel  ...         Egg\n",
              "29    Big Breakfast with Egg Whites (Regular Biscuit)  ...  Egg Whites\n",
              "30      Big Breakfast with Egg Whites (Large Biscuit)  ...  Egg Whites\n",
              "33  Big Breakfast with Hotcakes and Egg Whites (Re...  ...  Egg Whites\n",
              "34  Big Breakfast with Hotcakes and Egg Whites (La...  ...  Egg Whites\n",
              "\n",
              "[25 rows x 13 columns]"
            ]
          },
          "metadata": {
            "tags": []
          },
          "execution_count": 14
        }
      ]
    },
    {
      "cell_type": "code",
      "metadata": {
        "colab": {
          "base_uri": "https://localhost:8080/",
          "height": 191
        },
        "id": "m3k2I_hOc6QM",
        "outputId": "d7cfcec1-b33b-4890-f068-bd4b52fff196"
      },
      "source": [
        "egg_data = egg_data.groupby('Egg Type').mean().sort_values(by='Total Value')\n",
        "egg_data"
      ],
      "execution_count": 15,
      "outputs": [
        {
          "output_type": "execute_result",
          "data": {
            "text/html": [
              "<div>\n",
              "<style scoped>\n",
              "    .dataframe tbody tr th:only-of-type {\n",
              "        vertical-align: middle;\n",
              "    }\n",
              "\n",
              "    .dataframe tbody tr th {\n",
              "        vertical-align: top;\n",
              "    }\n",
              "\n",
              "    .dataframe thead th {\n",
              "        text-align: right;\n",
              "    }\n",
              "</style>\n",
              "<table border=\"1\" class=\"dataframe\">\n",
              "  <thead>\n",
              "    <tr style=\"text-align: right;\">\n",
              "      <th></th>\n",
              "      <th>Total Fat (% Daily Value)</th>\n",
              "      <th>Saturated Fat (% Daily Value)</th>\n",
              "      <th>Cholesterol (% Daily Value)</th>\n",
              "      <th>Sodium (% Daily Value)</th>\n",
              "      <th>Carbohydrates (% Daily Value)</th>\n",
              "      <th>Dietary Fiber (% Daily Value)</th>\n",
              "      <th>Vitamin A (% Daily Value)</th>\n",
              "      <th>Vitamin C (% Daily Value)</th>\n",
              "      <th>Calcium (% Daily Value)</th>\n",
              "      <th>Iron (% Daily Value)</th>\n",
              "      <th>Total Value</th>\n",
              "    </tr>\n",
              "    <tr>\n",
              "      <th>Egg Type</th>\n",
              "      <th></th>\n",
              "      <th></th>\n",
              "      <th></th>\n",
              "      <th></th>\n",
              "      <th></th>\n",
              "      <th></th>\n",
              "      <th></th>\n",
              "      <th></th>\n",
              "      <th></th>\n",
              "      <th></th>\n",
              "      <th></th>\n",
              "    </tr>\n",
              "  </thead>\n",
              "  <tbody>\n",
              "    <tr>\n",
              "      <th>Egg Whites</th>\n",
              "      <td>56.142857</td>\n",
              "      <td>67.000000</td>\n",
              "      <td>14.285714</td>\n",
              "      <td>66.142857</td>\n",
              "      <td>20.571429</td>\n",
              "      <td>16.285714</td>\n",
              "      <td>2.571429</td>\n",
              "      <td>1.142857</td>\n",
              "      <td>15.857143</td>\n",
              "      <td>18.571429</td>\n",
              "      <td>278.571429</td>\n",
              "    </tr>\n",
              "    <tr>\n",
              "      <th>Egg</th>\n",
              "      <td>39.333333</td>\n",
              "      <td>53.555556</td>\n",
              "      <td>63.833333</td>\n",
              "      <td>51.611111</td>\n",
              "      <td>13.944444</td>\n",
              "      <td>11.277778</td>\n",
              "      <td>9.944444</td>\n",
              "      <td>5.000000</td>\n",
              "      <td>19.722222</td>\n",
              "      <td>16.277778</td>\n",
              "      <td>284.500000</td>\n",
              "    </tr>\n",
              "  </tbody>\n",
              "</table>\n",
              "</div>"
            ],
            "text/plain": [
              "            Total Fat (% Daily Value)  ...  Total Value\n",
              "Egg Type                               ...             \n",
              "Egg Whites                  56.142857  ...   278.571429\n",
              "Egg                         39.333333  ...   284.500000\n",
              "\n",
              "[2 rows x 11 columns]"
            ]
          },
          "metadata": {
            "tags": []
          },
          "execution_count": 15
        }
      ]
    },
    {
      "cell_type": "markdown",
      "metadata": {
        "id": "cY6yU0dSsuO6"
      },
      "source": [
        "Tabel di atas menampilkan rata-rata nilai kandungan nutrisi dari menu-menu yang mengandung telur utuh dan putih telur saja. Dapat dilihat, menu yang mengandung putih telur saja memiliki kandungan kolesterol yang jauh lebih rendah daripada menu-menu yang mengandung telur utuh, begitu juga dengan total value nutrisi yang lebih rendah daripada menu-menu yang memiliki telur utuh sebagai salah satu komposisinya. Berikut ditampilkan visualisasi dari tabel terkait."
      ]
    },
    {
      "cell_type": "code",
      "metadata": {
        "colab": {
          "base_uri": "https://localhost:8080/",
          "height": 342
        },
        "id": "qFNqCtryc8-K",
        "outputId": "b1daa054-27c8-4ac7-f1f3-d4097fd8c91c"
      },
      "source": [
        "egg_data.iloc[:,:10].plot(kind='bar', stacked=False)\n",
        "plt.title('Total Nutritions by Egg Type')\n",
        "plt.ylabel('Nutririons')\n",
        "plt.xlabel('Egg Type')\n",
        "\n",
        "plt.legend(loc=\"upper left\", bbox_to_anchor=(1, 0.5, 0, 0.52))\n",
        "\n",
        "plt.show()\n"
      ],
      "execution_count": 16,
      "outputs": [
        {
          "output_type": "display_data",
          "data": {
            "image/png": "[encoded data removed]",
            "text/plain": [
              "<Figure size 432x288 with 1 Axes>"
            ]
          },
          "metadata": {
            "tags": [],
            "needs_background": "light"
          }
        }
      ]
    },
    {
      "cell_type": "markdown",
      "metadata": {
        "id": "KS2pEpIkh4Kv"
      },
      "source": [
        "# 5. What is the least number of items could you order from the menu to meet  one day's nutritional requirements with minimum calories?\n"
      ]
    },
    {
      "cell_type": "markdown",
      "metadata": {
        "id": "_oPJRw_70r6n"
      },
      "source": [
        "Untuk mengetahui jumlah menu yang bisa dipesan dengan kalori minimum, kami menggunakan Pemrograman linier akan digunakan sebagai metode optimasi. Karena metode ini dapat melakukan proses kalkulasi yang cukup cepat, di mana tidak terdapat korelasi orde tinggi yang masuk ke dalam fungsi objektif.\n",
        "\n",
        "Hal pertama yang harus dilakukan adalah mendefinisikan Objective Function (antara meminimalkan atau memaksimalkan). Berdasarkan studi kasus kali ini, Objective Function yang akan digunakan adalah meminimalkan jumlah kalori.\n",
        "\n",
        "Untuk menjawab pertanyaan ini, kami menggunakan Peraturan Menteri Kesehatan Republik Indonesia Nomor 28 tahun 2019 tentang Angka Kecukupan Gizi yang dianjurkan untuk Masyarakat Indonesia sebagai acuan constraints\n",
        "(http://www.p2ptm.kemkes.go.id/)\n",
        "\n",
        "* Energy: ~2,000 kcal\n",
        "* Total Fat: < 65 g (Saturated < 32g)\n",
        "* Carbohydrates > 260g\n",
        "* Sugars: 220g ~ 260g\n",
        "* Protein: 60g ~ 65g\n",
        "* Sodium: < 5g\n"
      ]
    },
    {
      "cell_type": "code",
      "metadata": {
        "id": "p54aGVwsdBX8"
      },
      "source": [
        "#Ubah data menjadi tipe Dictionaries,sehingga variable constraints bisa masuk ke dalam fungsi optimisasi.\n",
        "# Convert the item names to a list\n",
        "menu_mcd = df.Item.tolist()\n",
        "# Convert all of the macro nutrients fields to be dictionaries of the item names\n",
        "Calories = df.set_index('Item')['Calories'].to_dict()\n",
        "TotalFat = df.set_index('Item')['Total Fat'].to_dict()\n",
        "SaturatedFat = df.set_index('Item')['Saturated Fat'].to_dict()\n",
        "Carbohydrates = df.set_index('Item')['Carbohydrates'].to_dict()\n",
        "Sugars = df.set_index('Item')['Sugars'].to_dict()\n",
        "Protein = df.set_index('Item')['Protein'].to_dict()\n",
        "Sodium = df.set_index('Item')['Sodium'].to_dict()"
      ],
      "execution_count": 17,
      "outputs": []
    },
    {
      "cell_type": "code",
      "metadata": {
        "id": "mITQhV-PdJel"
      },
      "source": [
        "#minimization problem\n",
        "prob=LpProblem(\"McOptimizationProblem\",LpMinimize)"
      ],
      "execution_count": 18,
      "outputs": []
    },
    {
      "cell_type": "markdown",
      "metadata": {
        "id": "r3l10IHX1_eM"
      },
      "source": [
        "Perlu untuk menentukan jumlah item minimum, yaitu 1 (tidak bernilai negatif dan tidak berbentuk desimal). Sehingga perlu untuk memerintah optimizer ini untuk memberikan output berupa integer saja. Selain itu, kita juga bisa menentukan jumlah minimum dan maksimum item sebagai output."
      ]
    },
    {
      "cell_type": "code",
      "metadata": {
        "id": "FI0wgzIDdMHF"
      },
      "source": [
        "#set the minimum amount\n",
        "variasi_menu = LpVariable.dicts(\"MenuItems\",menu_mcd,lowBound=0,upBound=10,cat='Integer')"
      ],
      "execution_count": 19,
      "outputs": []
    },
    {
      "cell_type": "code",
      "metadata": {
        "id": "tLEnpYaMdNum"
      },
      "source": [
        "#Constraints dimasukkan ke dalam fungsi optimisasi\n",
        "#Constraints\n",
        "# First entry is the calorie calculation\n",
        "prob += lpSum([Calories[i]*variasi_menu[i] for i in menu_mcd]), 'Calories'\n",
        "# Total Fat must be <= 65 g\n",
        "prob += lpSum([TotalFat[i]*variasi_menu[i] for i in menu_mcd]) <=65, 'Total_Fat'\n",
        "# Saturated Fat is <= 32 g\n",
        "prob += lpSum([SaturatedFat[i]*variasi_menu[i] for i in menu_mcd]) <= 32, 'Saturated_Fat'\n",
        "# Carbohydrates must be more than 260 g\n",
        "prob += lpSum([Carbohydrates[i]*variasi_menu[i] for i in menu_mcd]) >= 360, \"Carbohydrates_lower\"\n",
        "prob += lpSum([Carbohydrates[i]*variasi_menu[i] for i in menu_mcd]) <= 430, \"Carbohydrates_upper\"\n",
        "# Sugar between 220-260 g\n",
        "prob += lpSum([Sugars[i]*variasi_menu[i] for i in menu_mcd]) >= 220, 'Sugars_lower'\n",
        "prob += lpSum([Sugars[i]*variasi_menu[i] for i in menu_mcd]) <= 260, 'Sugars_upper'\n",
        "# Protein between 60-65g\n",
        "prob += lpSum([Protein[i]*variasi_menu[i] for i in menu_mcd]) >= 60, 'Protein_lower'\n",
        "prob += lpSum([Protein[i]*variasi_menu[i] for i in menu_mcd]) <= 65, 'Protein_upper'\n",
        "# Sodium <= 5000 mg\n",
        "prob += lpSum([Sodium[i]*variasi_menu[i] for i in menu_mcd]) <= 5000, 'Sodium'"
      ],
      "execution_count": 20,
      "outputs": []
    },
    {
      "cell_type": "code",
      "metadata": {
        "colab": {
          "base_uri": "https://localhost:8080/"
        },
        "id": "ks023dqmdP7z",
        "outputId": "a982101b-b3fa-4cbd-845c-a7d448ee646f"
      },
      "source": [
        "prob.writeLP(\"McOptimization.lp\")\n",
        "prob.solve()\n",
        "data_matrix = []\n",
        "\n",
        "print(\"Status:\", LpStatus[prob.status])\n",
        "for v in prob.variables():\n",
        "    if v.varValue > 0:\n",
        "        Item = df.loc[df['Item'] == v.name.replace('MenuItems_','').replace('_',' ')]\n",
        "        Item_Calories = Item['Calories'].values*v.varValue\n",
        "        Item_TotalFat = Item['Total Fat'].values*v.varValue\n",
        "        Item_Carbohydrates = Item['Carbohydrates'].values*v.varValue\n",
        "        Item_Protein = Item['Protein'].values*v.varValue\n",
        "        Item_Sodium = Item['Sodium'].values*v.varValue\n",
        "        data_matrix.append([v.name.replace('MenuItems_','').replace('_',' '),v.varValue,Item_Calories[0], \\\n",
        "                           Item_TotalFat[0],Item_Carbohydrates[0],Item_Protein[0],Item_Sodium[0]])\n",
        "print(' ')\n",
        "results = {}\n",
        "# Get the total calories (minimized)\n",
        "print(\"Total Calories = \", value(prob.objective))\n",
        "# Loop over the constraint set and get the final solution\n",
        "results = {}\n",
        "for constraint in prob.constraints:\n",
        "    total_s = 0"
      ],
      "execution_count": 21,
      "outputs": [
        {
          "output_type": "stream",
          "text": [
            "Status: Optimal\n",
            " \n",
            "Total Calories =  1530.0\n"
          ],
          "name": "stdout"
        }
      ]
    },
    {
      "cell_type": "markdown",
      "metadata": {
        "id": "KxYzXEnu2vwZ"
      },
      "source": [
        "Dari sini dapat diketahui bahwa metode yang digunakan dapat memberikan hasil sesuai yang diinginkan (optimum), dengan jumlah kalori 1530 kcal."
      ]
    },
    {
      "cell_type": "code",
      "metadata": {
        "id": "fhvsPtEYdR-q"
      },
      "source": [
        "import plotly as py\n",
        "import plotly.figure_factory as ff"
      ],
      "execution_count": 22,
      "outputs": []
    },
    {
      "cell_type": "code",
      "metadata": {
        "colab": {
          "base_uri": "https://localhost:8080/"
        },
        "id": "qTMfOnYwdcdh",
        "outputId": "0c3c439a-62cc-435a-840e-55cdb42ea8df"
      },
      "source": [
        "table = ff.create_table(data_matrix)\n",
        "print(data_matrix)"
      ],
      "execution_count": 23,
      "outputs": [
        {
          "output_type": "stream",
          "text": [
            "[['Apple Slices', 10.0, 150.0, 0.0, 40.0, 0.0, 0.0], ['Diet Dr Pepper (Child)', 2.0, 0.0, 0.0, 0.0, 2.0, 100.0], ['Diet Dr Pepper (Large)', 10.0, 0.0, 0.0, 0.0, 40.0, 1400.0], ['Dr Pepper (Medium)', 2.0, 380.0, 0.0, 106.0, 0.0, 130.0], ['Fruit & Maple Oatmeal without Brown Sugar', 2.0, 520.0, 8.0, 98.0, 10.0, 230.0], ['Minute Maid 100% Apple Juice Box', 4.0, 320.0, 0.0, 84.0, 0.0, 60.0], ['Side Salad', 8.0, 160.0, 0.0, 32.0, 8.0, 80.0]]\n"
          ],
          "name": "stdout"
        }
      ]
    },
    {
      "cell_type": "code",
      "metadata": {
        "colab": {
          "base_uri": "https://localhost:8080/"
        },
        "id": "TfhNIB8tdeqp",
        "outputId": "b540f827-343b-4997-dd22-369f58d766e8"
      },
      "source": [
        "data_matrix1=list(map(list, zip(*data_matrix)))\n",
        "\n",
        "itm = data_matrix1[0]\n",
        "amo = data_matrix1[1]\n",
        "cal = data_matrix1[2]\n",
        "tfat = data_matrix1[3]\n",
        "carb = data_matrix1[4]\n",
        "pro = data_matrix1[5]\n",
        "sdm = data_matrix1[6]\n",
        "# dictionary of lists\n",
        "dict = {'Item': itm, 'Amount': amo, 'Calories': cal, 'Total Fat': tfat, 'Carbohydrates': carb, 'Protein': pro,\n",
        "        'Sodium': sdm}\n",
        "\n",
        "hasil_akhir = pd.DataFrame(dict)\n",
        "\n",
        "hasil_akhir\n",
        "print(hasil_akhir.to_string())"
      ],
      "execution_count": 25,
      "outputs": [
        {
          "output_type": "stream",
          "text": [
            "                                        Item  Amount  Calories  Total Fat  Carbohydrates  Protein  Sodium\n",
            "0                               Apple Slices    10.0     150.0        0.0           40.0      0.0     0.0\n",
            "1                     Diet Dr Pepper (Child)     2.0       0.0        0.0            0.0      2.0   100.0\n",
            "2                     Diet Dr Pepper (Large)    10.0       0.0        0.0            0.0     40.0  1400.0\n",
            "3                         Dr Pepper (Medium)     2.0     380.0        0.0          106.0      0.0   130.0\n",
            "4  Fruit & Maple Oatmeal without Brown Sugar     2.0     520.0        8.0           98.0     10.0   230.0\n",
            "5           Minute Maid 100% Apple Juice Box     4.0     320.0        0.0           84.0      0.0    60.0\n",
            "6                                 Side Salad     8.0     160.0        0.0           32.0      8.0    80.0\n"
          ],
          "name": "stdout"
        }
      ]
    },
    {
      "cell_type": "markdown",
      "metadata": {
        "id": "goPcywbJ3ljd"
      },
      "source": [
        "Setelah dilakukan optimisasi menggunakan metode pemrograman linier, dapat diketahui bahwa seseorang dapat mengonsumsi 6 jenis menu dengan jumlah dan ukuran porsi seperti yang tertera pada tabel di atas."
      ]
    }
  ]
}