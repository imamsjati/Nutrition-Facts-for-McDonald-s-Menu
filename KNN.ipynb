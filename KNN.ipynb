{
  "nbformat": 4,
  "nbformat_minor": 0,
  "metadata": {
    "colab": {
      "name": "KNN.ipynb",
      "provenance": [],
      "collapsed_sections": []
    },
    "kernelspec": {
      "display_name": "Python 3",
      "name": "python3"
    }
  },
  "cells": [
    {
      "cell_type": "markdown",
      "metadata": {
        "id": "hkYitB1vwneP"
      },
      "source": [
        "## **DTS Data Science**\n",
        "# Institut Teknologi Sepuluh Nopember (Kelas B)\n"
      ]
    },
    {
      "cell_type": "markdown",
      "metadata": {
        "id": "_hHWay0b8JoI"
      },
      "source": [
        "## **CHALLENGE 3**\n",
        "\n",
        "## **Nutrition Facts for McDonald's Menu**\n",
        "\n",
        "**Introduction**\n",
        "\n",
        "Ray Kroc wanted to build a restaurant system that would be famous for providing food of cosistently high quality and uniform methods of preparation. He wanted to serve burgers, buns, fries and beverages that tasted just the same in Alaska as they did in Alabama. To achieve this, he chose a unique path: persuading both franchisees and suppliers to buy into his vision, working not for McDonald's but for themselves, together with McDonald's. Many of McDonald's most famous menu item's - Like Big Mac, Filet-O-Fish, and Egg McMuffin were created by franchisees\n",
        "\n",
        "**Nutrition Facts for McDonald's Menu Dataset** provides a nutrition analysis of every menu item on the US McDonald's menu, including breakfast, beef burgers, chicken and fish sandwiches, fries, salads, soda, coffee and tea, milkshakes, and desserts.\n",
        "\n",
        "\n",
        "\n",
        "# Klasifikasi menggunakan K-Neirst Neighbor"
      ]
    },
    {
      "cell_type": "code",
      "metadata": {
        "id": "vvnAfFqOwe0u"
      },
      "source": [
        "import itertools\n",
        "import numpy as np\n",
        "from matplotlib.ticker import NullFormatter\n",
        "import matplotlib.pyplot as plt\n",
        "import matplotlib.ticker as ticker\n",
        "%matplotlib inline\n",
        "import pandas as pd\n",
        "import numpy as np\n",
        "from sklearn import preprocessing"
      ],
      "execution_count": null,
      "outputs": []
    },
    {
      "cell_type": "markdown",
      "metadata": {
        "id": "hNX4YnSbwe1E"
      },
      "source": [
        "Membaca Data"
      ]
    },
    {
      "cell_type": "code",
      "metadata": {
        "colab": {
          "resources": {
            "http://localhost:8080/nbextensions/google.colab/files.js": {
              "data": "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",
              "ok": true,
              "headers": [
                [
                  "content-type",
                  "application/javascript"
                ]
              ],
              "status": 200,
              "status_text": ""
            }
          },
          "base_uri": "https://localhost:8080/",
          "height": 72
        },
        "id": "PubiCrIfwe1F",
        "outputId": "f9ba79ae-690b-4474-a800-d082040adfa8"
      },
      "source": [
        "from google.colab import files\n",
        "data_to_load = files.upload()"
      ],
      "execution_count": null,
      "outputs": [
        {
          "output_type": "display_data",
          "data": {
            "text/html": [
              "\n",
              "     <input type=\"file\" id=\"files-f5b572bf-edfa-48da-b87b-31f5abe4ad6b\" name=\"files[]\" multiple disabled\n",
              "        style=\"border:none\" />\n",
              "     <output id=\"result-f5b572bf-edfa-48da-b87b-31f5abe4ad6b\">\n",
              "      Upload widget is only available when the cell has been executed in the\n",
              "      current browser session. Please rerun this cell to enable.\n",
              "      </output>\n",
              "      <script src=\"/nbextensions/google.colab/files.js\"></script> "
            ],
            "text/plain": [
              "<IPython.core.display.HTML object>"
            ]
          },
          "metadata": {
            "tags": []
          }
        },
        {
          "output_type": "stream",
          "text": [
            "Saving menu.csv to menu.csv\n"
          ],
          "name": "stdout"
        }
      ]
    },
    {
      "cell_type": "code",
      "metadata": {
        "colab": {
          "base_uri": "https://localhost:8080/",
          "height": 1000
        },
        "id": "-Hu_laAjxCMn",
        "outputId": "153dc5a3-5c6c-44ef-8380-fa4c178102b2"
      },
      "source": [
        "import io\n",
        "df = pd.read_csv(io.BytesIO(data_to_load['menu.csv']))\n",
        "df"
      ],
      "execution_count": null,
      "outputs": [
        {
          "output_type": "execute_result",
          "data": {
            "text/html": [
              "<div>\n",
              "<style scoped>\n",
              "    .dataframe tbody tr th:only-of-type {\n",
              "        vertical-align: middle;\n",
              "    }\n",
              "\n",
              "    .dataframe tbody tr th {\n",
              "        vertical-align: top;\n",
              "    }\n",
              "\n",
              "    .dataframe thead th {\n",
              "        text-align: right;\n",
              "    }\n",
              "</style>\n",
              "<table border=\"1\" class=\"dataframe\">\n",
              "  <thead>\n",
              "    <tr style=\"text-align: right;\">\n",
              "      <th></th>\n",
              "      <th>Category</th>\n",
              "      <th>Item</th>\n",
              "      <th>Serving Size</th>\n",
              "      <th>Calories</th>\n",
              "      <th>Calories_from_Fat</th>\n",
              "      <th>Total_Fat</th>\n",
              "      <th>Total Fat (% Daily Value)</th>\n",
              "      <th>Saturated Fat</th>\n",
              "      <th>Saturated Fat (% Daily Value)</th>\n",
              "      <th>Trans Fat</th>\n",
              "      <th>Cholesterol</th>\n",
              "      <th>Cholesterol (% Daily Value)</th>\n",
              "      <th>Sodium</th>\n",
              "      <th>Sodium (% Daily Value)</th>\n",
              "      <th>Carbohydrates</th>\n",
              "      <th>Carbohydrates (% Daily Value)</th>\n",
              "      <th>Dietary Fiber</th>\n",
              "      <th>Dietary Fiber (% Daily Value)</th>\n",
              "      <th>Sugars</th>\n",
              "      <th>Protein</th>\n",
              "      <th>Vitamin A (% Daily Value)</th>\n",
              "      <th>Vitamin C (% Daily Value)</th>\n",
              "      <th>Calcium (% Daily Value)</th>\n",
              "      <th>Iron (% Daily Value)</th>\n",
              "    </tr>\n",
              "  </thead>\n",
              "  <tbody>\n",
              "    <tr>\n",
              "      <th>0</th>\n",
              "      <td>Breakfast</td>\n",
              "      <td>Egg McMuffin</td>\n",
              "      <td>4.8 oz (136 g)</td>\n",
              "      <td>300</td>\n",
              "      <td>120</td>\n",
              "      <td>13.0</td>\n",
              "      <td>20</td>\n",
              "      <td>5.0</td>\n",
              "      <td>25</td>\n",
              "      <td>0.0</td>\n",
              "      <td>260</td>\n",
              "      <td>87</td>\n",
              "      <td>750</td>\n",
              "      <td>31</td>\n",
              "      <td>31</td>\n",
              "      <td>10</td>\n",
              "      <td>4</td>\n",
              "      <td>17</td>\n",
              "      <td>3</td>\n",
              "      <td>17</td>\n",
              "      <td>10</td>\n",
              "      <td>0</td>\n",
              "      <td>25</td>\n",
              "      <td>15</td>\n",
              "    </tr>\n",
              "    <tr>\n",
              "      <th>1</th>\n",
              "      <td>Breakfast</td>\n",
              "      <td>Egg White Delight</td>\n",
              "      <td>4.8 oz (135 g)</td>\n",
              "      <td>250</td>\n",
              "      <td>70</td>\n",
              "      <td>8.0</td>\n",
              "      <td>12</td>\n",
              "      <td>3.0</td>\n",
              "      <td>15</td>\n",
              "      <td>0.0</td>\n",
              "      <td>25</td>\n",
              "      <td>8</td>\n",
              "      <td>770</td>\n",
              "      <td>32</td>\n",
              "      <td>30</td>\n",
              "      <td>10</td>\n",
              "      <td>4</td>\n",
              "      <td>17</td>\n",
              "      <td>3</td>\n",
              "      <td>18</td>\n",
              "      <td>6</td>\n",
              "      <td>0</td>\n",
              "      <td>25</td>\n",
              "      <td>8</td>\n",
              "    </tr>\n",
              "    <tr>\n",
              "      <th>2</th>\n",
              "      <td>Breakfast</td>\n",
              "      <td>Sausage McMuffin</td>\n",
              "      <td>3.9 oz (111 g)</td>\n",
              "      <td>370</td>\n",
              "      <td>200</td>\n",
              "      <td>23.0</td>\n",
              "      <td>35</td>\n",
              "      <td>8.0</td>\n",
              "      <td>42</td>\n",
              "      <td>0.0</td>\n",
              "      <td>45</td>\n",
              "      <td>15</td>\n",
              "      <td>780</td>\n",
              "      <td>33</td>\n",
              "      <td>29</td>\n",
              "      <td>10</td>\n",
              "      <td>4</td>\n",
              "      <td>17</td>\n",
              "      <td>2</td>\n",
              "      <td>14</td>\n",
              "      <td>8</td>\n",
              "      <td>0</td>\n",
              "      <td>25</td>\n",
              "      <td>10</td>\n",
              "    </tr>\n",
              "    <tr>\n",
              "      <th>3</th>\n",
              "      <td>Breakfast</td>\n",
              "      <td>Sausage McMuffin with Egg</td>\n",
              "      <td>5.7 oz (161 g)</td>\n",
              "      <td>450</td>\n",
              "      <td>250</td>\n",
              "      <td>28.0</td>\n",
              "      <td>43</td>\n",
              "      <td>10.0</td>\n",
              "      <td>52</td>\n",
              "      <td>0.0</td>\n",
              "      <td>285</td>\n",
              "      <td>95</td>\n",
              "      <td>860</td>\n",
              "      <td>36</td>\n",
              "      <td>30</td>\n",
              "      <td>10</td>\n",
              "      <td>4</td>\n",
              "      <td>17</td>\n",
              "      <td>2</td>\n",
              "      <td>21</td>\n",
              "      <td>15</td>\n",
              "      <td>0</td>\n",
              "      <td>30</td>\n",
              "      <td>15</td>\n",
              "    </tr>\n",
              "    <tr>\n",
              "      <th>4</th>\n",
              "      <td>Breakfast</td>\n",
              "      <td>Sausage McMuffin with Egg Whites</td>\n",
              "      <td>5.7 oz (161 g)</td>\n",
              "      <td>400</td>\n",
              "      <td>210</td>\n",
              "      <td>23.0</td>\n",
              "      <td>35</td>\n",
              "      <td>8.0</td>\n",
              "      <td>42</td>\n",
              "      <td>0.0</td>\n",
              "      <td>50</td>\n",
              "      <td>16</td>\n",
              "      <td>880</td>\n",
              "      <td>37</td>\n",
              "      <td>30</td>\n",
              "      <td>10</td>\n",
              "      <td>4</td>\n",
              "      <td>17</td>\n",
              "      <td>2</td>\n",
              "      <td>21</td>\n",
              "      <td>6</td>\n",
              "      <td>0</td>\n",
              "      <td>25</td>\n",
              "      <td>10</td>\n",
              "    </tr>\n",
              "    <tr>\n",
              "      <th>...</th>\n",
              "      <td>...</td>\n",
              "      <td>...</td>\n",
              "      <td>...</td>\n",
              "      <td>...</td>\n",
              "      <td>...</td>\n",
              "      <td>...</td>\n",
              "      <td>...</td>\n",
              "      <td>...</td>\n",
              "      <td>...</td>\n",
              "      <td>...</td>\n",
              "      <td>...</td>\n",
              "      <td>...</td>\n",
              "      <td>...</td>\n",
              "      <td>...</td>\n",
              "      <td>...</td>\n",
              "      <td>...</td>\n",
              "      <td>...</td>\n",
              "      <td>...</td>\n",
              "      <td>...</td>\n",
              "      <td>...</td>\n",
              "      <td>...</td>\n",
              "      <td>...</td>\n",
              "      <td>...</td>\n",
              "      <td>...</td>\n",
              "    </tr>\n",
              "    <tr>\n",
              "      <th>255</th>\n",
              "      <td>Smoothies &amp; Shakes</td>\n",
              "      <td>McFlurry with Oreo Cookies (Small)</td>\n",
              "      <td>10.1 oz (285 g)</td>\n",
              "      <td>510</td>\n",
              "      <td>150</td>\n",
              "      <td>17.0</td>\n",
              "      <td>26</td>\n",
              "      <td>9.0</td>\n",
              "      <td>44</td>\n",
              "      <td>0.5</td>\n",
              "      <td>45</td>\n",
              "      <td>14</td>\n",
              "      <td>280</td>\n",
              "      <td>12</td>\n",
              "      <td>80</td>\n",
              "      <td>27</td>\n",
              "      <td>1</td>\n",
              "      <td>4</td>\n",
              "      <td>64</td>\n",
              "      <td>12</td>\n",
              "      <td>15</td>\n",
              "      <td>0</td>\n",
              "      <td>40</td>\n",
              "      <td>8</td>\n",
              "    </tr>\n",
              "    <tr>\n",
              "      <th>256</th>\n",
              "      <td>Smoothies &amp; Shakes</td>\n",
              "      <td>McFlurry with Oreo Cookies (Medium)</td>\n",
              "      <td>13.4 oz (381 g)</td>\n",
              "      <td>690</td>\n",
              "      <td>200</td>\n",
              "      <td>23.0</td>\n",
              "      <td>35</td>\n",
              "      <td>12.0</td>\n",
              "      <td>58</td>\n",
              "      <td>1.0</td>\n",
              "      <td>55</td>\n",
              "      <td>19</td>\n",
              "      <td>380</td>\n",
              "      <td>16</td>\n",
              "      <td>106</td>\n",
              "      <td>35</td>\n",
              "      <td>1</td>\n",
              "      <td>5</td>\n",
              "      <td>85</td>\n",
              "      <td>15</td>\n",
              "      <td>20</td>\n",
              "      <td>0</td>\n",
              "      <td>50</td>\n",
              "      <td>10</td>\n",
              "    </tr>\n",
              "    <tr>\n",
              "      <th>257</th>\n",
              "      <td>Smoothies &amp; Shakes</td>\n",
              "      <td>McFlurry with Oreo Cookies (Snack)</td>\n",
              "      <td>6.7 oz (190 g)</td>\n",
              "      <td>340</td>\n",
              "      <td>100</td>\n",
              "      <td>11.0</td>\n",
              "      <td>17</td>\n",
              "      <td>6.0</td>\n",
              "      <td>29</td>\n",
              "      <td>0.0</td>\n",
              "      <td>30</td>\n",
              "      <td>9</td>\n",
              "      <td>190</td>\n",
              "      <td>8</td>\n",
              "      <td>53</td>\n",
              "      <td>18</td>\n",
              "      <td>1</td>\n",
              "      <td>2</td>\n",
              "      <td>43</td>\n",
              "      <td>8</td>\n",
              "      <td>10</td>\n",
              "      <td>0</td>\n",
              "      <td>25</td>\n",
              "      <td>6</td>\n",
              "    </tr>\n",
              "    <tr>\n",
              "      <th>258</th>\n",
              "      <td>Smoothies &amp; Shakes</td>\n",
              "      <td>McFlurry with Reese's Peanut Butter Cups (Medium)</td>\n",
              "      <td>14.2 oz (403 g)</td>\n",
              "      <td>810</td>\n",
              "      <td>290</td>\n",
              "      <td>32.0</td>\n",
              "      <td>50</td>\n",
              "      <td>15.0</td>\n",
              "      <td>76</td>\n",
              "      <td>1.0</td>\n",
              "      <td>60</td>\n",
              "      <td>20</td>\n",
              "      <td>400</td>\n",
              "      <td>17</td>\n",
              "      <td>114</td>\n",
              "      <td>38</td>\n",
              "      <td>2</td>\n",
              "      <td>9</td>\n",
              "      <td>103</td>\n",
              "      <td>21</td>\n",
              "      <td>20</td>\n",
              "      <td>0</td>\n",
              "      <td>60</td>\n",
              "      <td>6</td>\n",
              "    </tr>\n",
              "    <tr>\n",
              "      <th>259</th>\n",
              "      <td>Smoothies &amp; Shakes</td>\n",
              "      <td>McFlurry with Reese's Peanut Butter Cups (Snack)</td>\n",
              "      <td>7.1 oz (202 g)</td>\n",
              "      <td>410</td>\n",
              "      <td>150</td>\n",
              "      <td>16.0</td>\n",
              "      <td>25</td>\n",
              "      <td>8.0</td>\n",
              "      <td>38</td>\n",
              "      <td>0.0</td>\n",
              "      <td>30</td>\n",
              "      <td>10</td>\n",
              "      <td>200</td>\n",
              "      <td>8</td>\n",
              "      <td>57</td>\n",
              "      <td>19</td>\n",
              "      <td>1</td>\n",
              "      <td>5</td>\n",
              "      <td>51</td>\n",
              "      <td>10</td>\n",
              "      <td>10</td>\n",
              "      <td>0</td>\n",
              "      <td>30</td>\n",
              "      <td>4</td>\n",
              "    </tr>\n",
              "  </tbody>\n",
              "</table>\n",
              "<p>260 rows × 24 columns</p>\n",
              "</div>"
            ],
            "text/plain": [
              "               Category  ... Iron (% Daily Value)\n",
              "0             Breakfast  ...                   15\n",
              "1             Breakfast  ...                    8\n",
              "2             Breakfast  ...                   10\n",
              "3             Breakfast  ...                   15\n",
              "4             Breakfast  ...                   10\n",
              "..                  ...  ...                  ...\n",
              "255  Smoothies & Shakes  ...                    8\n",
              "256  Smoothies & Shakes  ...                   10\n",
              "257  Smoothies & Shakes  ...                    6\n",
              "258  Smoothies & Shakes  ...                    6\n",
              "259  Smoothies & Shakes  ...                    4\n",
              "\n",
              "[260 rows x 24 columns]"
            ]
          },
          "metadata": {
            "tags": []
          },
          "execution_count": 9
        }
      ]
    },
    {
      "cell_type": "markdown",
      "metadata": {
        "id": "UxOfVsZuwe1U"
      },
      "source": [
        "Pelabelan berdasarkan Category"
      ]
    },
    {
      "cell_type": "code",
      "metadata": {
        "colab": {
          "base_uri": "https://localhost:8080/"
        },
        "id": "eUtHooFWwe1V",
        "outputId": "6ac7517a-cc72-4396-9bee-13150726dcc8"
      },
      "source": [
        "df['Category'].value_counts()"
      ],
      "execution_count": null,
      "outputs": [
        {
          "output_type": "execute_result",
          "data": {
            "text/plain": [
              "Coffee & Tea          95\n",
              "Breakfast             42\n",
              "Smoothies & Shakes    28\n",
              "Chicken & Fish        27\n",
              "Beverages             27\n",
              "Beef & Pork           15\n",
              "Snacks & Sides        13\n",
              "Desserts               7\n",
              "Salads                 6\n",
              "Name: Category, dtype: int64"
            ]
          },
          "metadata": {
            "tags": []
          },
          "execution_count": 10
        }
      ]
    },
    {
      "cell_type": "markdown",
      "metadata": {
        "id": "0_2Vxi9Uwe1f"
      },
      "source": [
        "Didapati bahwa:\n",
        "Category             Jumlah Data\n",
        "Coffee & Tea          95\n",
        "Breakfast             42\n",
        "Smoothies & Shakes    28\n",
        "Chicken & Fish        27\n",
        "Beverages             27\n",
        "Beef & Pork           15\n",
        "Snacks & Sides        13\n",
        "Desserts               7\n",
        "Salads                 6"
      ]
    },
    {
      "cell_type": "markdown",
      "metadata": {
        "id": "hvfryL5iwe1j"
      },
      "source": [
        "Histogram sebaran data Carbohydrates"
      ]
    },
    {
      "cell_type": "code",
      "metadata": {
        "colab": {
          "base_uri": "https://localhost:8080/",
          "height": 315
        },
        "id": "flIefPizwe1m",
        "outputId": "09a606b2-6848-449c-e851-c590995e4a9f"
      },
      "source": [
        "df.hist(column='Carbohydrates', bins=50)"
      ],
      "execution_count": null,
      "outputs": [
        {
          "output_type": "execute_result",
          "data": {
            "text/plain": [
              "array([[<matplotlib.axes._subplots.AxesSubplot object at 0x7f9065002940>]],\n",
              "      dtype=object)"
            ]
          },
          "metadata": {
            "tags": []
          },
          "execution_count": 11
        },
        {
          "output_type": "display_data",
          "data": {
            "image/png": "[encoded data removed]",
            "text/plain": [
              "<Figure size 432x288 with 1 Axes>"
            ]
          },
          "metadata": {
            "tags": [],
            "needs_background": "light"
          }
        }
      ]
    },
    {
      "cell_type": "markdown",
      "metadata": {
        "id": "SKAPUBHFwe1w"
      },
      "source": [
        "Pemilihan feature set"
      ]
    },
    {
      "cell_type": "code",
      "metadata": {
        "colab": {
          "base_uri": "https://localhost:8080/"
        },
        "id": "Ws8iAme3we1y",
        "outputId": "76ac1399-49c2-4ac2-fc12-46d28fc410e5"
      },
      "source": [
        "df.columns"
      ],
      "execution_count": null,
      "outputs": [
        {
          "output_type": "execute_result",
          "data": {
            "text/plain": [
              "Index(['Category', 'Item', 'Serving Size', 'Calories', 'Calories_from_Fat',\n",
              "       'Total_Fat', 'Total Fat (% Daily Value)', 'Saturated Fat',\n",
              "       'Saturated Fat (% Daily Value)', 'Trans Fat', 'Cholesterol',\n",
              "       'Cholesterol (% Daily Value)', 'Sodium', 'Sodium (% Daily Value)',\n",
              "       'Carbohydrates', 'Carbohydrates (% Daily Value)', 'Dietary Fiber',\n",
              "       'Dietary Fiber (% Daily Value)', 'Sugars', 'Protein',\n",
              "       'Vitamin A (% Daily Value)', 'Vitamin C (% Daily Value)',\n",
              "       'Calcium (% Daily Value)', 'Iron (% Daily Value)'],\n",
              "      dtype='object')"
            ]
          },
          "metadata": {
            "tags": []
          },
          "execution_count": 16
        }
      ]
    },
    {
      "cell_type": "markdown",
      "metadata": {
        "id": "qngdj6kawe17"
      },
      "source": [
        "Feature yang dipilih ['Calories', 'Calories from Fat','Total Fat', 'Total Fat (% Daily Value)', 'Saturated Fat','Saturated Fat (% Daily Value)', 'Trans Fat', 'Cholesterol','Cholesterol (% Daily Value)', 'Sodium', 'Sodium (% Daily Value)','Carbohydrates', 'Carbohydrates (% Daily Value)', 'Dietary Fiber','Dietary Fiber (% Daily Value)', 'Sugars', 'Protein','Vitamin A (% Daily Value)', 'Vitamin C (% Daily Value)','Calcium (% Daily Value)', 'Iron (% Daily Value)']"
      ]
    },
    {
      "cell_type": "markdown",
      "metadata": {
        "id": "Kt4ym2Uuwe19"
      },
      "source": [
        "Konversi Pandas Data frame ke array numpy agar bisa digunakan di scikit-learn library"
      ]
    },
    {
      "cell_type": "code",
      "metadata": {
        "colab": {
          "base_uri": "https://localhost:8080/"
        },
        "id": "aIYbP4odwe2A",
        "outputId": "cb118453-8af4-484e-891a-14a20e2af473"
      },
      "source": [
        "X = df[['Calories', 'Calories_from_Fat','Total_Fat', 'Total Fat (% Daily Value)', 'Saturated Fat','Saturated Fat (% Daily Value)', 'Trans Fat', 'Cholesterol','Cholesterol (% Daily Value)', 'Sodium', 'Sodium (% Daily Value)','Carbohydrates', 'Carbohydrates (% Daily Value)', 'Dietary Fiber','Dietary Fiber (% Daily Value)', 'Sugars', 'Protein','Vitamin A (% Daily Value)', 'Vitamin C (% Daily Value)','Calcium (% Daily Value)', 'Iron (% Daily Value)']] .values #astype(float)\n",
        "X[0:5]"
      ],
      "execution_count": null,
      "outputs": [
        {
          "output_type": "execute_result",
          "data": {
            "text/plain": [
              "array([[300., 120.,  13.,  20.,   5.,  25.,   0., 260.,  87., 750.,  31.,\n",
              "         31.,  10.,   4.,  17.,   3.,  17.,  10.,   0.,  25.,  15.],\n",
              "       [250.,  70.,   8.,  12.,   3.,  15.,   0.,  25.,   8., 770.,  32.,\n",
              "         30.,  10.,   4.,  17.,   3.,  18.,   6.,   0.,  25.,   8.],\n",
              "       [370., 200.,  23.,  35.,   8.,  42.,   0.,  45.,  15., 780.,  33.,\n",
              "         29.,  10.,   4.,  17.,   2.,  14.,   8.,   0.,  25.,  10.],\n",
              "       [450., 250.,  28.,  43.,  10.,  52.,   0., 285.,  95., 860.,  36.,\n",
              "         30.,  10.,   4.,  17.,   2.,  21.,  15.,   0.,  30.,  15.],\n",
              "       [400., 210.,  23.,  35.,   8.,  42.,   0.,  50.,  16., 880.,  37.,\n",
              "         30.,  10.,   4.,  17.,   2.,  21.,   6.,   0.,  25.,  10.]])"
            ]
          },
          "metadata": {
            "tags": []
          },
          "execution_count": 18
        }
      ]
    },
    {
      "cell_type": "code",
      "metadata": {
        "colab": {
          "base_uri": "https://localhost:8080/"
        },
        "id": "MSEpmfClwe2H",
        "outputId": "0b843bd2-7a2b-4eee-f649-8eb10cfa8ed6"
      },
      "source": [
        "y = df['Category'].values\n",
        "y[0:5]"
      ],
      "execution_count": null,
      "outputs": [
        {
          "output_type": "execute_result",
          "data": {
            "text/plain": [
              "array(['Breakfast', 'Breakfast', 'Breakfast', 'Breakfast', 'Breakfast'],\n",
              "      dtype=object)"
            ]
          },
          "metadata": {
            "tags": []
          },
          "execution_count": 19
        }
      ]
    },
    {
      "cell_type": "markdown",
      "metadata": {
        "id": "-WLbX1Prwe2R"
      },
      "source": [
        "Normalisasi Data"
      ]
    },
    {
      "cell_type": "code",
      "metadata": {
        "colab": {
          "base_uri": "https://localhost:8080/"
        },
        "id": "pNserogVwe2U",
        "outputId": "d0308417-4373-42d2-de0e-9d33c241e816"
      },
      "source": [
        "X = preprocessing.StandardScaler().fit(X).transform(X.astype(float))\n",
        "X[0:5]"
      ],
      "execution_count": null,
      "outputs": [
        {
          "output_type": "execute_result",
          "data": {
            "text/plain": [
              "array([[-0.28468361, -0.05559952, -0.0821929 , -0.08311032, -0.18971436,\n",
              "        -0.18675333, -0.47593486,  2.35424457,  2.3628775 ,  0.44147095,\n",
              "         0.43033103, -0.57969508, -0.61488307,  1.51417637,  1.66312459,\n",
              "        -0.92309014,  0.32107066, -0.1409127 , -0.32457391,  0.23705644,\n",
              "         0.83448094],\n",
              "       [-0.49318428, -0.44735768, -0.43483572, -0.44935918, -0.56624669,\n",
              "        -0.56286384, -0.47593486, -0.34376431, -0.35791541,  0.47619826,\n",
              "         0.47201735, -0.61515878, -0.61488307,  1.51417637,  1.66312459,\n",
              "        -0.92309014,  0.40875802, -0.30538992, -0.32457391,  0.23705644,\n",
              "         0.0304813 ],\n",
              "       [ 0.00721733,  0.57121352,  0.62309274,  0.6036063 ,  0.37508412,\n",
              "         0.45263453, -0.47593486, -0.11414653, -0.11683249,  0.49356191,\n",
              "         0.51370366, -0.65062248, -0.61488307,  1.51417637,  1.66312459,\n",
              "        -0.95802514,  0.05800856, -0.22315131, -0.32457391,  0.23705644,\n",
              "         0.26019549],\n",
              "       [ 0.3408184 ,  0.96297168,  0.97573556,  0.96985516,  0.75161645,\n",
              "         0.82874504, -0.47593486,  2.64126679,  2.63840083,  0.63247116,\n",
              "         0.6387626 , -0.61515878, -0.61488307,  1.51417637,  1.66312459,\n",
              "        -0.95802514,  0.67182011,  0.06468383, -0.32457391,  0.53139586,\n",
              "         0.83448094],\n",
              "       [ 0.13231773,  0.64956516,  0.62309274,  0.6036063 ,  0.37508412,\n",
              "         0.45263453, -0.47593486, -0.05674209, -0.08239207,  0.66719847,\n",
              "         0.68044892, -0.61515878, -0.61488307,  1.51417637,  1.66312459,\n",
              "        -0.95802514,  0.67182011, -0.30538992, -0.32457391,  0.23705644,\n",
              "         0.26019549]])"
            ]
          },
          "metadata": {
            "tags": []
          },
          "execution_count": 20
        }
      ]
    },
    {
      "cell_type": "markdown",
      "metadata": {
        "id": "nXFyNi1lwe2h"
      },
      "source": [
        "Train test split"
      ]
    },
    {
      "cell_type": "code",
      "metadata": {
        "colab": {
          "base_uri": "https://localhost:8080/"
        },
        "id": "Hrh_uICUwe2q",
        "outputId": "b8b1cb3c-51c9-4037-ee19-50c398b34f3b"
      },
      "source": [
        "from sklearn.model_selection import train_test_split\n",
        "\n",
        "X_train, X_test, y_train, y_test = train_test_split( X, y, test_size=0.2, random_state=4)\n",
        "print ('Train set:', X_train.shape,  y_train.shape)\n",
        "print ('Test set:', X_test.shape,  y_test.shape)"
      ],
      "execution_count": null,
      "outputs": [
        {
          "output_type": "stream",
          "text": [
            "Train set: (208, 21) (208,)\n",
            "Test set: (52, 21) (52,)\n"
          ],
          "name": "stdout"
        }
      ]
    },
    {
      "cell_type": "markdown",
      "metadata": {
        "id": "P3aC63Wowe28"
      },
      "source": [
        "Klsifikasi KNN"
      ]
    },
    {
      "cell_type": "code",
      "metadata": {
        "id": "7LodIKe6we2_"
      },
      "source": [
        "from sklearn.neighbors import KNeighborsClassifier"
      ],
      "execution_count": null,
      "outputs": []
    },
    {
      "cell_type": "markdown",
      "metadata": {
        "id": "mZePn856we3N"
      },
      "source": [
        "training data dengan k=1"
      ]
    },
    {
      "cell_type": "code",
      "metadata": {
        "colab": {
          "base_uri": "https://localhost:8080/"
        },
        "id": "KdIj5Fnrwe3Q",
        "outputId": "a5eb3c90-19a5-4927-8c68-0459e185d176"
      },
      "source": [
        "k = 1\n",
        "#Train Model and Predict  \n",
        "neigh = KNeighborsClassifier(n_neighbors = k).fit(X_train,y_train)\n",
        "neigh"
      ],
      "execution_count": null,
      "outputs": [
        {
          "output_type": "execute_result",
          "data": {
            "text/plain": [
              "KNeighborsClassifier(algorithm='auto', leaf_size=30, metric='minkowski',\n",
              "                     metric_params=None, n_jobs=None, n_neighbors=1, p=2,\n",
              "                     weights='uniform')"
            ]
          },
          "metadata": {
            "tags": []
          },
          "execution_count": 23
        }
      ]
    },
    {
      "cell_type": "markdown",
      "metadata": {
        "id": "xsw24Vc6we3b"
      },
      "source": [
        "Predicting"
      ]
    },
    {
      "cell_type": "code",
      "metadata": {
        "colab": {
          "base_uri": "https://localhost:8080/"
        },
        "id": "pdriUO3nwe3b",
        "outputId": "f751fb40-db13-4e9e-b9b1-8d2d608021c7"
      },
      "source": [
        "yhat = neigh.predict(X_test)\n",
        "yhat[0:5]"
      ],
      "execution_count": null,
      "outputs": [
        {
          "output_type": "execute_result",
          "data": {
            "text/plain": [
              "array(['Smoothies & Shakes', 'Breakfast', 'Coffee & Tea', 'Coffee & Tea',\n",
              "       'Coffee & Tea'], dtype=object)"
            ]
          },
          "metadata": {
            "tags": []
          },
          "execution_count": 24
        }
      ]
    },
    {
      "cell_type": "markdown",
      "metadata": {
        "id": "xDSI4jYFwe3m"
      },
      "source": [
        "Evaluasi Akurasi"
      ]
    },
    {
      "cell_type": "code",
      "metadata": {
        "colab": {
          "base_uri": "https://localhost:8080/"
        },
        "id": "3WXmJPu0we3p",
        "outputId": "0cd9ab03-a7b3-49df-cec9-f292ad4b77e9"
      },
      "source": [
        "from sklearn import metrics\n",
        "print(\"Train set Accuracy: \", metrics.accuracy_score(y_train, neigh.predict(X_train)))\n",
        "print(\"Test set Accuracy: \", metrics.accuracy_score(y_test, yhat))"
      ],
      "execution_count": null,
      "outputs": [
        {
          "output_type": "stream",
          "text": [
            "Train set Accuracy:  0.9855769230769231\n",
            "Test set Accuracy:  0.8653846153846154\n"
          ],
          "name": "stdout"
        }
      ]
    },
    {
      "cell_type": "markdown",
      "metadata": {
        "id": "5BOj_r3Wwe3x"
      },
      "source": [
        "Mencari nilai K optimum"
      ]
    },
    {
      "cell_type": "code",
      "metadata": {
        "colab": {
          "base_uri": "https://localhost:8080/"
        },
        "id": "fciwckorwe3z",
        "outputId": "4f356322-a57a-4a48-a1ce-9f66a091db65"
      },
      "source": [
        "Ks = 10\n",
        "mean_acc = np.zeros((Ks-1))\n",
        "std_acc = np.zeros((Ks-1))\n",
        "ConfustionMx = [];\n",
        "for n in range(1,Ks):\n",
        "    \n",
        "    #Train Model and Predict  \n",
        "    neigh = KNeighborsClassifier(n_neighbors = n).fit(X_train,y_train)\n",
        "    yhat=neigh.predict(X_test)\n",
        "    mean_acc[n-1] = metrics.accuracy_score(y_test, yhat)\n",
        "\n",
        "    \n",
        "    std_acc[n-1]=np.std(yhat==y_test)/np.sqrt(yhat.shape[0])\n",
        "\n",
        "mean_acc"
      ],
      "execution_count": null,
      "outputs": [
        {
          "output_type": "execute_result",
          "data": {
            "text/plain": [
              "array([0.86538462, 0.84615385, 0.82692308, 0.80769231, 0.86538462,\n",
              "       0.86538462, 0.84615385, 0.75      , 0.75      ])"
            ]
          },
          "metadata": {
            "tags": []
          },
          "execution_count": 26
        }
      ]
    },
    {
      "cell_type": "code",
      "metadata": {
        "colab": {
          "base_uri": "https://localhost:8080/",
          "height": 297
        },
        "id": "cezweaHAwe36",
        "outputId": "1de8ca28-e7d7-42ad-b673-049fe17ed5d3"
      },
      "source": [
        "plt.plot(range(1,Ks),mean_acc,'g')\n",
        "plt.fill_between(range(1,Ks),mean_acc - 1 * std_acc,mean_acc + 1 * std_acc, alpha=0.10)\n",
        "plt.legend(('Accuracy ', '+/- 3xstd'))\n",
        "plt.ylabel('Accuracy ')\n",
        "plt.xlabel('Number of Nabors (K)')\n",
        "plt.tight_layout()\n",
        "plt.show()"
      ],
      "execution_count": null,
      "outputs": [
        {
          "output_type": "display_data",
          "data": {
            "image/png": "[encoded data removed]",
            "text/plain": [
              "<Figure size 432x288 with 1 Axes>"
            ]
          },
          "metadata": {
            "tags": [],
            "needs_background": "light"
          }
        }
      ]
    },
    {
      "cell_type": "code",
      "metadata": {
        "colab": {
          "base_uri": "https://localhost:8080/"
        },
        "id": "t-GrGwLnwe4A",
        "outputId": "80f8a532-9a43-4b28-b27e-d70dca1dabb3"
      },
      "source": [
        "print( \"The best accuracy was with\", mean_acc.max(), \"with k=\", mean_acc.argmax()+1) "
      ],
      "execution_count": null,
      "outputs": [
        {
          "output_type": "stream",
          "text": [
            "The best accuracy was with 0.8653846153846154 with k= 1\n"
          ],
          "name": "stdout"
        }
      ]
    },
    {
      "cell_type": "markdown",
      "metadata": {
        "id": "78OCNRtmwe4J"
      },
      "source": [
        "Jacard Index Test"
      ]
    },
    {
      "cell_type": "code",
      "metadata": {
        "colab": {
          "base_uri": "https://localhost:8080/"
        },
        "id": "FZoIm4Xvwe4J",
        "outputId": "7c79d90b-81b9-4fa7-a199-6124ecb6f5fd"
      },
      "source": [
        "from sklearn.metrics import jaccard_similarity_score\n",
        "jaccard_similarity_score(y_test, yhat)"
      ],
      "execution_count": null,
      "outputs": [
        {
          "output_type": "stream",
          "text": [
            "/usr/local/lib/python3.6/dist-packages/sklearn/metrics/_classification.py:664: FutureWarning: jaccard_similarity_score has been deprecated and replaced with jaccard_score. It will be removed in version 0.23. This implementation has surprising behavior for binary and multiclass classification tasks.\n",
            "  FutureWarning)\n"
          ],
          "name": "stderr"
        },
        {
          "output_type": "execute_result",
          "data": {
            "text/plain": [
              "0.75"
            ]
          },
          "metadata": {
            "tags": []
          },
          "execution_count": 29
        }
      ]
    },
    {
      "cell_type": "markdown",
      "metadata": {
        "id": "tAEwcF-Uwe4P"
      },
      "source": [
        "F1 Score"
      ]
    },
    {
      "cell_type": "code",
      "metadata": {
        "colab": {
          "base_uri": "https://localhost:8080/"
        },
        "id": "NesdthtRwe4P",
        "outputId": "c4cc97b8-a9fa-4c1b-d19a-f59c40e318f8"
      },
      "source": [
        "from sklearn.metrics import f1_score\n",
        "f1_score(y_test, yhat, average='weighted') "
      ],
      "execution_count": null,
      "outputs": [
        {
          "output_type": "execute_result",
          "data": {
            "text/plain": [
              "0.7446886446886446"
            ]
          },
          "metadata": {
            "tags": []
          },
          "execution_count": 30
        }
      ]
    },
    {
      "cell_type": "markdown",
      "metadata": {
        "id": "hjhba5Zgwe4W"
      },
      "source": [
        "Confusion Matrix"
      ]
    },
    {
      "cell_type": "code",
      "metadata": {
        "id": "H1MxyCxrsZ78"
      },
      "source": [
        ""
      ],
      "execution_count": null,
      "outputs": []
    },
    {
      "cell_type": "code",
      "metadata": {
        "colab": {
          "base_uri": "https://localhost:8080/",
          "height": 198
        },
        "collapsed": true,
        "id": "I7xrPKzWwe4X",
        "outputId": "9359382a-e421-4596-b636-588f9989ef19"
      },
      "source": [
        "def plot_confusion_matrix(cm, classes,\n",
        "                          normalize=False,\n",
        "                          title='Confusion matrix',\n",
        "                          cmap=plt.cm.Blues):\n",
        "    \"\"\"\n",
        "    This function prints and plots the confusion matrix.\n",
        "    Normalization can be applied by setting `normalize=True`.\n",
        "    \"\"\"\n",
        "    if normalize:\n",
        "        cm = cm.astype('float') / cm.sum(axis=1)[:, np.newaxis]\n",
        "        print(\"Normalized confusion matrix\")\n",
        "    else:\n",
        "        print('Confusion matrix, without normalization')\n",
        "\n",
        "    print(cm)\n",
        "\n",
        "    plt.imshow(cm, interpolation='nearest', cmap=cmap)\n",
        "    plt.title(title)\n",
        "    plt.colorbar()\n",
        "    tick_marks = np.arange(len(classes))\n",
        "    plt.xticks(tick_marks, classes, rotation=45)\n",
        "    plt.yticks(tick_marks, classes)\n",
        "\n",
        "    fmt = '.2f' if normalize else 'd'\n",
        "    thresh = cm.max() / 2.\n",
        "    for i, j in itertools.product(range(cm.shape[0]), range(cm.shape[1])):\n",
        "        plt.text(j, i, format(cm[i, j], fmt),\n",
        "                 horizontalalignment=\"center\",\n",
        "                 color=\"white\" if cm[i, j] > thresh else \"black\")\n",
        "\n",
        "    plt.tight_layout()\n",
        "    plt.ylabel('True label')\n",
        "    plt.xlabel('Predicted label')\n",
        "print(confusion_matrix(y_test, yhat, labels=[1,0]))"
      ],
      "execution_count": null,
      "outputs": [
        {
          "output_type": "error",
          "ename": "TypeError",
          "evalue": "ignored",
          "traceback": [
            "\u001b[0;31m---------------------------------------------------------------------------\u001b[0m",
            "\u001b[0;31mTypeError\u001b[0m                                 Traceback (most recent call last)",
            "\u001b[0;32m<ipython-input-32-669970f8a42b>\u001b[0m in \u001b[0;36m<module>\u001b[0;34m()\u001b[0m\n\u001b[1;32m     32\u001b[0m     \u001b[0mplt\u001b[0m\u001b[0;34m.\u001b[0m\u001b[0mylabel\u001b[0m\u001b[0;34m(\u001b[0m\u001b[0;34m'True label'\u001b[0m\u001b[0;34m)\u001b[0m\u001b[0;34m\u001b[0m\u001b[0;34m\u001b[0m\u001b[0m\n\u001b[1;32m     33\u001b[0m     \u001b[0mplt\u001b[0m\u001b[0;34m.\u001b[0m\u001b[0mxlabel\u001b[0m\u001b[0;34m(\u001b[0m\u001b[0;34m'Predicted label'\u001b[0m\u001b[0;34m)\u001b[0m\u001b[0;34m\u001b[0m\u001b[0;34m\u001b[0m\u001b[0m\n\u001b[0;32m---> 34\u001b[0;31m \u001b[0mprint\u001b[0m\u001b[0;34m(\u001b[0m\u001b[0mplot_confusion_matrix\u001b[0m\u001b[0;34m(\u001b[0m\u001b[0my_test\u001b[0m\u001b[0;34m,\u001b[0m \u001b[0myhat\u001b[0m\u001b[0;34m,\u001b[0m \u001b[0mlabels\u001b[0m\u001b[0;34m=\u001b[0m\u001b[0;34m[\u001b[0m\u001b[0;36m1\u001b[0m\u001b[0;34m,\u001b[0m\u001b[0;36m0\u001b[0m\u001b[0;34m]\u001b[0m\u001b[0;34m)\u001b[0m\u001b[0;34m)\u001b[0m\u001b[0;34m\u001b[0m\u001b[0;34m\u001b[0m\u001b[0m\n\u001b[0m",
            "\u001b[0;31mTypeError\u001b[0m: plot_confusion_matrix() got an unexpected keyword argument 'labels'"
          ]
        }
      ]
    },
    {
      "cell_type": "code",
      "metadata": {
        "colab": {
          "base_uri": "https://localhost:8080/",
          "height": 249
        },
        "collapsed": true,
        "id": "0hEodTfQwe4d",
        "outputId": "c806c7ea-be05-4b76-8c4d-9706518718c6"
      },
      "source": [
        "# Compute confusion matrix\n",
        "cnf_matrix = confusion_matrix(y_test, yhat, labels=['Coffee & Tea','Breakfast''Smoothies & Shakes','Chicken & Fish','Beverages','Beef & Pork','Snacks & Sides','Desserts','Salads'])\n",
        "np.set_printoptions(precision=2)\n",
        "\n",
        "print (classification_report(y_test, yhat))\n"
      ],
      "execution_count": null,
      "outputs": [
        {
          "output_type": "error",
          "ename": "NameError",
          "evalue": "ignored",
          "traceback": [
            "\u001b[0;31m---------------------------------------------------------------------------\u001b[0m",
            "\u001b[0;31mNameError\u001b[0m                                 Traceback (most recent call last)",
            "\u001b[0;32m<ipython-input-33-890581726fcf>\u001b[0m in \u001b[0;36m<module>\u001b[0;34m()\u001b[0m\n\u001b[1;32m      1\u001b[0m \u001b[0;31m# Compute confusion matrix\u001b[0m\u001b[0;34m\u001b[0m\u001b[0;34m\u001b[0m\u001b[0;34m\u001b[0m\u001b[0m\n\u001b[0;32m----> 2\u001b[0;31m \u001b[0mcnf_matrix\u001b[0m \u001b[0;34m=\u001b[0m \u001b[0mconfusion_matrix\u001b[0m\u001b[0;34m(\u001b[0m\u001b[0my_test\u001b[0m\u001b[0;34m,\u001b[0m \u001b[0myhat\u001b[0m\u001b[0;34m,\u001b[0m \u001b[0mlabels\u001b[0m\u001b[0;34m=\u001b[0m\u001b[0;34m[\u001b[0m\u001b[0;34m'Coffee & Tea'\u001b[0m\u001b[0;34m,\u001b[0m\u001b[0;34m'Breakfast'\u001b[0m\u001b[0;34m'Smoothies & Shakes'\u001b[0m\u001b[0;34m,\u001b[0m\u001b[0;34m'Chicken & Fish'\u001b[0m\u001b[0;34m,\u001b[0m\u001b[0;34m'Beverages'\u001b[0m\u001b[0;34m,\u001b[0m\u001b[0;34m'Beef & Pork'\u001b[0m\u001b[0;34m,\u001b[0m\u001b[0;34m'Snacks & Sides'\u001b[0m\u001b[0;34m,\u001b[0m\u001b[0;34m'Desserts'\u001b[0m\u001b[0;34m,\u001b[0m\u001b[0;34m'Salads'\u001b[0m\u001b[0;34m]\u001b[0m\u001b[0;34m)\u001b[0m\u001b[0;34m\u001b[0m\u001b[0;34m\u001b[0m\u001b[0m\n\u001b[0m\u001b[1;32m      3\u001b[0m \u001b[0mnp\u001b[0m\u001b[0;34m.\u001b[0m\u001b[0mset_printoptions\u001b[0m\u001b[0;34m(\u001b[0m\u001b[0mprecision\u001b[0m\u001b[0;34m=\u001b[0m\u001b[0;36m2\u001b[0m\u001b[0;34m)\u001b[0m\u001b[0;34m\u001b[0m\u001b[0;34m\u001b[0m\u001b[0m\n\u001b[1;32m      4\u001b[0m \u001b[0;34m\u001b[0m\u001b[0m\n\u001b[1;32m      5\u001b[0m \u001b[0mprint\u001b[0m \u001b[0;34m(\u001b[0m\u001b[0mclassification_report\u001b[0m\u001b[0;34m(\u001b[0m\u001b[0my_test\u001b[0m\u001b[0;34m,\u001b[0m \u001b[0myhat\u001b[0m\u001b[0;34m)\u001b[0m\u001b[0;34m)\u001b[0m\u001b[0;34m\u001b[0m\u001b[0;34m\u001b[0m\u001b[0m\n",
            "\u001b[0;31mNameError\u001b[0m: name 'confusion_matrix' is not defined"
          ]
        }
      ]
    },
    {
      "cell_type": "code",
      "metadata": {
        "colab": {
          "base_uri": "https://localhost:8080/",
          "height": 862
        },
        "collapsed": true,
        "id": "v6ZNEtMbwe4j",
        "outputId": "c93b9799-fb64-4807-a5ac-af60fd6d0b84"
      },
      "source": [
        "# Plot non-normalized confusion matrix\n",
        "plt.figure(figsize=(10,10))\n",
        "plot_confusion_matrix(cnf_matrix, classes=['Coffee & Tea','Breakfast''Smoothies & Shakes','Chicken & Fish','Beverages','Beef & Pork','Snacks & Sides','Desserts','Salads'],normalize= False,  title='Confusion matrix')"
      ],
      "execution_count": null,
      "outputs": [
        {
          "output_type": "stream",
          "text": [
            "Confusion matrix, without normalization\n",
            "[[16  0  0  0  0  0  0  0]\n",
            " [ 0  0  0  0  0  0  0  0]\n",
            " [ 0  0  2  0  0  1  0  0]\n",
            " [ 0  0  0  3  0  0  0  0]\n",
            " [ 0  0  0  0  3  1  0  0]\n",
            " [ 1  0  0  1  0  1  0  0]\n",
            " [ 0  0  0  0  0  0  0  0]\n",
            " [ 0  0  1  0  0  0  0  1]]\n"
          ],
          "name": "stdout"
        },
        {
          "output_type": "display_data",
          "data": {
            "image/png": "[encoded data removed]",
            "text/plain": [
              "<Figure size 720x720 with 2 Axes>"
            ]
          },
          "metadata": {
            "tags": []
          }
        }
      ]
    },
    {
      "cell_type": "markdown",
      "metadata": {
        "id": "AVxwE0adwe4s"
      },
      "source": [
        "True Positif = 26"
      ]
    },
    {
      "cell_type": "markdown",
      "metadata": {
        "id": "zySIcx_gzHTc"
      },
      "source": [
        "Cross validation Test"
      ]
    },
    {
      "cell_type": "code",
      "metadata": {
        "id": "xGBuq-pNwe4w"
      },
      "source": [
        "from sklearn.model_selection import KFold\n",
        "from sklearn.model_selection import cross_val_score\n",
        "kfold = KFold(n_splits=10, shuffle=True, random_state=0)"
      ],
      "execution_count": null,
      "outputs": []
    },
    {
      "cell_type": "code",
      "metadata": {
        "colab": {
          "base_uri": "https://localhost:8080/",
          "height": 215
        },
        "id": "XNHwd5Erwe43",
        "outputId": "761af278-966f-4008-81c2-92125bfa7c43"
      },
      "source": [
        "modelknn = KNeighborsClassifier(n_neighbors=5, weights='uniform')\n",
        "scoring = 'accuracy'\n",
        "scoreknn = cross_val_score(modelknn, X, y, cv=kfold, n_jobs=1, scoring=scoring)\n",
        "print(scoreknn)"
      ],
      "execution_count": null,
      "outputs": [
        {
          "output_type": "error",
          "ename": "NameError",
          "evalue": "ignored",
          "traceback": [
            "\u001b[0;31m---------------------------------------------------------------------------\u001b[0m",
            "\u001b[0;31mNameError\u001b[0m                                 Traceback (most recent call last)",
            "\u001b[0;32m<ipython-input-1-4eddddbd5bd6>\u001b[0m in \u001b[0;36m<module>\u001b[0;34m()\u001b[0m\n\u001b[0;32m----> 1\u001b[0;31m \u001b[0mmodelknn\u001b[0m \u001b[0;34m=\u001b[0m \u001b[0mKNeighborsClassifier\u001b[0m\u001b[0;34m(\u001b[0m\u001b[0mn_neighbors\u001b[0m\u001b[0;34m=\u001b[0m\u001b[0;36m5\u001b[0m\u001b[0;34m,\u001b[0m \u001b[0mweights\u001b[0m\u001b[0;34m=\u001b[0m\u001b[0;34m'uniform'\u001b[0m\u001b[0;34m)\u001b[0m\u001b[0;34m\u001b[0m\u001b[0;34m\u001b[0m\u001b[0m\n\u001b[0m\u001b[1;32m      2\u001b[0m \u001b[0mscoring\u001b[0m \u001b[0;34m=\u001b[0m \u001b[0;34m'accuracy'\u001b[0m\u001b[0;34m\u001b[0m\u001b[0;34m\u001b[0m\u001b[0m\n\u001b[1;32m      3\u001b[0m \u001b[0mscoreknn\u001b[0m \u001b[0;34m=\u001b[0m \u001b[0mcross_val_score\u001b[0m\u001b[0;34m(\u001b[0m\u001b[0mmodelknn\u001b[0m\u001b[0;34m,\u001b[0m \u001b[0mX\u001b[0m\u001b[0;34m,\u001b[0m \u001b[0my\u001b[0m\u001b[0;34m,\u001b[0m \u001b[0mcv\u001b[0m\u001b[0;34m=\u001b[0m\u001b[0mkfold\u001b[0m\u001b[0;34m,\u001b[0m \u001b[0mn_jobs\u001b[0m\u001b[0;34m=\u001b[0m\u001b[0;36m1\u001b[0m\u001b[0;34m,\u001b[0m \u001b[0mscoring\u001b[0m\u001b[0;34m=\u001b[0m\u001b[0mscoring\u001b[0m\u001b[0;34m)\u001b[0m\u001b[0;34m\u001b[0m\u001b[0;34m\u001b[0m\u001b[0m\n\u001b[1;32m      4\u001b[0m \u001b[0mprint\u001b[0m\u001b[0;34m(\u001b[0m\u001b[0mscoreknn\u001b[0m\u001b[0;34m)\u001b[0m\u001b[0;34m\u001b[0m\u001b[0;34m\u001b[0m\u001b[0m\n",
            "\u001b[0;31mNameError\u001b[0m: name 'KNeighborsClassifier' is not defined"
          ]
        }
      ]
    },
    {
      "cell_type": "code",
      "metadata": {
        "id": "BWVzzc4dwe48",
        "outputId": "f854478e-59f6-42c2-d04b-97d963a242b6"
      },
      "source": [
        "np.mean(scoreknn)"
      ],
      "execution_count": null,
      "outputs": [
        {
          "output_type": "execute_result",
          "data": {
            "text/plain": [
              "0.8115384615384615"
            ]
          },
          "metadata": {
            "tags": []
          },
          "execution_count": 134
        }
      ]
    },
    {
      "cell_type": "code",
      "metadata": {
        "id": "xmWByXTMwe5L"
      },
      "source": [
        ""
      ],
      "execution_count": null,
      "outputs": []
    }
  ]
}